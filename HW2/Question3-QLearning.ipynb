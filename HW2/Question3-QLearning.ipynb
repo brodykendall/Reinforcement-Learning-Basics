{
 "cells": [
  {
   "cell_type": "markdown",
   "metadata": {},
   "source": [
    "In the code below, areas marked FFF should be completed by you.\n",
    "\n",
    "\n",
    "Frozen lake is an OpenAI Gym environment wherein the agent must navigate across a grid, representing a frozen lake. However, several of the squares on this lake are not sufficiently frozen, and stepping on them will send the agent to its death, incurring a negative reward.\n",
    "\n",
    "The agent must be trained to navigate this frozen lake, avoiding the squares where falling will send it to death, while learning to reach the goal state at the end.\n",
    "\n",
    "A visualization of the environment is here:\n",
    "https://twice22.github.io/images/rl_series/frozenlake.png\n",
    "\n",
    "The actions in the environment will move the agent up, down, left, or right on the grid."
   ]
  },
  {
   "cell_type": "markdown",
   "metadata": {},
   "source": [
    "Install required dependencies\n",
    "\n",
    "pip install gym\n",
    "pip install matplotlib"
   ]
  },
  {
   "cell_type": "markdown",
   "metadata": {},
   "source": [
    "In the code below, areas marked FFF should be completed by you."
   ]
  },
  {
   "cell_type": "code",
   "execution_count": 1,
   "metadata": {},
   "outputs": [],
   "source": [
    "# imports\n",
    "import gym\n",
    "import numpy as np\n",
    "import matplotlib.pyplot as plt"
   ]
  },
  {
   "cell_type": "code",
   "execution_count": 2,
   "metadata": {},
   "outputs": [
    {
     "name": "stdout",
     "output_type": "stream",
     "text": [
      "0\n",
      "Discrete(4)\n",
      "Discrete(16)\n"
     ]
    }
   ],
   "source": [
    "env = gym.make(\"FrozenLake-v1\", is_slippery=False)\n",
    "\n",
    "np.random.seed(42)\n",
    "env.action_space.seed(42)\n",
    "env.observation_space.seed(42)\n",
    "\n",
    "obs, info = env.reset()\n",
    "print(obs)\n",
    "\n",
    "# This shows the action space is 4 dimensional and discrete.\n",
    "print(env.action_space)\n",
    "print(env.observation_space)\n",
    "\n",
    "NStates = env.observation_space.n\n",
    "NActions = env.action_space.n\n",
    "\n",
    "# To actually move the env forward, we must tell it what action should be taken.\n",
    "action = 1\n",
    "next_obs, reward, terminated, truncated, info = env.step(action)\n"
   ]
  },
  {
   "cell_type": "markdown",
   "metadata": {},
   "source": [
    "Make the Q-table, the main object of Q-learning.\n",
    "This table has rows given by the states and columns given by actions.\n"
   ]
  },
  {
   "cell_type": "code",
   "execution_count": 3,
   "metadata": {},
   "outputs": [],
   "source": [
    "q_table = np.zeros((NStates, NActions))"
   ]
  },
  {
   "cell_type": "markdown",
   "metadata": {},
   "source": [
    "Looking at the table, we can instantly look up the Q value of being\n",
    "in state s and taking action a by calling\n",
    "\n",
    "q_table[state, action]"
   ]
  },
  {
   "cell_type": "code",
   "execution_count": 4,
   "metadata": {},
   "outputs": [
    {
     "name": "stdout",
     "output_type": "stream",
     "text": [
      "None\n"
     ]
    },
    {
     "name": "stderr",
     "output_type": "stream",
     "text": [
      "/Users/Brody1/anaconda3/lib/python3.9/site-packages/gym/envs/toy_text/frozen_lake.py:271: UserWarning: \u001b[33mWARN: You are calling render method without specifying any render mode. You can specify the render_mode at initialization, e.g. gym(\"FrozenLake-v1\", render_mode=\"rgb_array\")\u001b[0m\n",
      "  logger.warn(\n"
     ]
    }
   ],
   "source": [
    "action = env.action_space.sample() # sample a random action\n",
    "next_obs, reward, terminated, truncated, info = env.step(action)\n",
    "\n",
    "print(env.render()) # print your current position in the maze."
   ]
  },
  {
   "cell_type": "code",
   "execution_count": 5,
   "metadata": {},
   "outputs": [],
   "source": [
    "# Some common hyper-params\n",
    "\n",
    "# total training episodes\n",
    "epochs = 1000\n",
    "# learning rate\n",
    "alpha = 0.5\n",
    "# discount factor\n",
    "gamma = 0.9\n",
    "\n",
    "# Threshold for taking random actions.\n",
    "eps = 0.001"
   ]
  },
  {
   "cell_type": "code",
   "execution_count": 6,
   "metadata": {},
   "outputs": [],
   "source": [
    "reached_goal = []\n",
    "running_success_rates = []\n",
    "x_range = []\n",
    "convergence_rate = None\n",
    "epsilon_greedy_threshold = 0.5\n",
    "greedy = True"
   ]
  },
  {
   "cell_type": "markdown",
   "metadata": {},
   "source": [
    "Below is the actual training loop"
   ]
  },
  {
   "cell_type": "code",
   "execution_count": 7,
   "metadata": {},
   "outputs": [],
   "source": [
    "for ep in range(epochs):\n",
    "    obs, info = env.reset()\n",
    "    terminated = False\n",
    "    \n",
    "    reached_goal.append(0)\n",
    "\n",
    "    while not terminated:\n",
    "        # keep going until you fall into the ice or reach the goal\n",
    "\n",
    "        # these are the values of every possible action at the given observation.\n",
    "        action_values = q_table[obs]\n",
    "\n",
    "        # if all action values are 0, the q-table will always take the same actions.\n",
    "        # this is just making sure we take random actions at the start of training.\n",
    "        if np.max(action_values) < eps:\n",
    "            action = env.action_space.sample()\n",
    "\n",
    "        else:\n",
    "            if greedy is False:\n",
    "                action = np.argmax(action_values)\n",
    "            else:\n",
    "                if np.random.rand() < epsilon_greedy_threshold:\n",
    "                    action = env.action_space.sample()\n",
    "                else:\n",
    "                    action = np.argmax(action_values)\n",
    "                \n",
    "\n",
    "\n",
    "        next_obs, reward, terminated, truncated, info = env.step(action)\n",
    "\n",
    "        q_table[obs, action] = q_table[obs, action] \\\n",
    "                               + alpha * (reward + gamma * np.max(q_table[next_obs]) - q_table[obs, action])\n",
    "\n",
    "        obs = next_obs\n",
    "\n",
    "        # we reached the goal\n",
    "        if reward:\n",
    "            # log the success\n",
    "            reached_goal[-1] = 1\n",
    "\n",
    "        #\n",
    "    if ep % 10 == 0 and ep > 0:\n",
    "        # Compute running success rate.\n",
    "        # the average success over the last\n",
    "        # 10 epochs.\n",
    "        # for example, if you succeeded once,\n",
    "        # this would be given by 1/10\n",
    "        average_success_rate_last_10 = np.mean(reached_goal[-10:-1])\n",
    "        if average_success_rate_last_10 > .95 and convergence_rate is None:\n",
    "            convergence_rate = ep\n",
    "        running_success_rates.append(average_success_rate_last_10)\n",
    "        x_range.append(ep)\n",
    "        if epsilon_greedy_threshold > 0:\n",
    "            epsilon_greedy_threshold -= .05\n",
    "\n"
   ]
  },
  {
   "cell_type": "code",
   "execution_count": 8,
   "metadata": {},
   "outputs": [
    {
     "name": "stdout",
     "output_type": "stream",
     "text": [
      "[[0.3051837  0.         0.59049    0.        ]\n",
      " [0.22473688 0.         0.6561     0.29521599]\n",
      " [0.14358595 0.729      0.         0.33623048]\n",
      " [0.         0.         0.         0.        ]\n",
      " [0.         0.         0.         0.        ]\n",
      " [0.         0.         0.         0.        ]\n",
      " [0.         0.81       0.         0.48634569]\n",
      " [0.         0.         0.         0.        ]\n",
      " [0.         0.         0.         0.        ]\n",
      " [0.         0.         0.         0.        ]\n",
      " [0.         0.9        0.         0.36449468]\n",
      " [0.         0.         0.         0.        ]\n",
      " [0.         0.         0.         0.        ]\n",
      " [0.         0.         0.         0.        ]\n",
      " [0.         0.         1.         0.68396896]\n",
      " [0.         0.         0.         0.        ]]\n"
     ]
    }
   ],
   "source": [
    "print(q_table)"
   ]
  },
  {
   "cell_type": "markdown",
   "metadata": {},
   "source": [
    "# Please answer the following questions"
   ]
  },
  {
   "cell_type": "markdown",
   "metadata": {},
   "source": [
    "# #1 Fill in the states and actions.\n",
    "\n",
    "How many states are there? How many actions?\n"
   ]
  },
  {
   "cell_type": "markdown",
   "metadata": {},
   "source": [
    "16 states, 4 actions"
   ]
  },
  {
   "cell_type": "markdown",
   "metadata": {},
   "source": [
    "# #2 Complete the Q-learning update, which has been only partially filled in on line 22 and 23 above.\n",
    "\n",
    "After training, please print the final Q-table at convergence. Does this Q-table make sense?"
   ]
  },
  {
   "cell_type": "markdown",
   "metadata": {},
   "source": [
    "This does make sense. Essentially, the algorithm learned a successful path and then never strayed from that path."
   ]
  },
  {
   "cell_type": "markdown",
   "metadata": {},
   "source": [
    "# #3 Plot the learning curve\n",
    "\n",
    "On the x-axis, plot the total number of training episodes. On the y-axis, plot the average success rate over the last 10 episodes. An episode is a success if the goal is reached and the agent gets a reward of 1."
   ]
  },
  {
   "cell_type": "code",
   "execution_count": 9,
   "metadata": {},
   "outputs": [
    {
     "data": {
      "image/png": "[encoded data removed]",
      "text/plain": [
       "<Figure size 432x288 with 1 Axes>"
      ]
     },
     "metadata": {
      "needs_background": "light"
     },
     "output_type": "display_data"
    }
   ],
   "source": [
    "plt.plot(x_range, running_success_rates, label='Learning curve')\n",
    "plt.legend()\n",
    "plt.show()"
   ]
  },
  {
   "cell_type": "markdown",
   "metadata": {},
   "source": [
    "# #4 Play around with alpha and gamma.\n",
    "\n",
    "Suppose we define the rate of convergence to be the number of episodes it takes for 95% of the episodes to get a reward.\n",
    "\n",
    "Change the learning rate alpha and the discount factor gamma. Try values around 0.7 for alpha and 0.2 for gamma. What happens to the rate of convergence? What does the learning curve look like? What are good values for alpha and gamma?\n",
    "\n",
    "You need not be rigorous here. Just a brief discussion on a few different values you tried will suffice."
   ]
  },
  {
   "cell_type": "code",
   "execution_count": 10,
   "metadata": {},
   "outputs": [
    {
     "data": {
      "text/plain": [
       "100"
      ]
     },
     "execution_count": 10,
     "metadata": {},
     "output_type": "execute_result"
    }
   ],
   "source": [
    "convergence_rate"
   ]
  },
  {
   "cell_type": "markdown",
   "metadata": {},
   "source": [
    "alpha = 0.5, gamma = 0.9, convergence rate = 90\n",
    "alpha = 0.7, gamma = 0.2, convergence rate = 150\n",
    "alpha = 0.2, gamma = 0.7, convergence rate = 90\n",
    "alpha = 0.9, gamma = 0.1, convergence rate = 510\n",
    "alpha = 0.9, gamma = 0.9, convergence rate = 90\n",
    "alpha = 0.1, gamma = 0.1, convergence rate > 1000\n",
    "alpha = 0.1, gamma = 0.9, convergence rate = 130"
   ]
  },
  {
   "cell_type": "markdown",
   "metadata": {},
   "source": [
    "# #5 Add epsilon greedy exploration\n",
    "\n",
    "Rather than always taking the action with the max q-value on line 17 above, implement epsilon greedy exploration, which we discussed in class.\n",
    "\n",
    "Crucially, you should anneal your epsilon greedy threshold throughout training. It should start around 0.5, and then decrease by around 0.05 every 10 episodes. This schedule need not be exact.\n",
    "\n",
    "When I say it should start around 0.5, I mean that you should take a random action half the time. Decreasing by 0.05 means that after 10 episodes, you should only take a random action 45% of the time, then after 10 more episodes 40% of the time, and so on.\n",
    "\n",
    "After implementing epsilon greedy exploration, what happens to the Q-table? Compare to the Q-table you got in part 3, when you did not use epsilon greedy exploration. They should be different. Can you interpret the difference? What does it mean, in terms of paths the agent might take?\n",
    "\n",
    "Compared with no epsilon greedy exploration, how fast is the rate of convergence? Show the learning curve for the epsilon greedy case, similar to the one from 3.\n",
    "\n"
   ]
  }
 ],
 "metadata": {
  "kernelspec": {
   "display_name": "Python 3.9.12 ('base')",
   "language": "python",
   "name": "python3"
  },
  "language_info": {
   "codemirror_mode": {
    "name": "ipython",
    "version": 3
   },
   "file_extension": ".py",
   "mimetype": "text/x-python",
   "name": "python",
   "nbconvert_exporter": "python",
   "pygments_lexer": "ipython3",
   "version": "3.9.12"
  },
  "vscode": {
   "interpreter": {
    "hash": "c2fc23ecdc1c1fa286c1002cc3fcf9afea5e395bec68affde10a5bf206900e71"
   }
  }
 },
 "nbformat": 4,
 "nbformat_minor": 1
}
