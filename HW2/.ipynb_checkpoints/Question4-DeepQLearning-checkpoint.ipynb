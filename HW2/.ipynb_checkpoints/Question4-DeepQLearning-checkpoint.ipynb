{
 "cells": [
  {
   "cell_type": "markdown",
   "metadata": {},
   "source": []
  },
  {
   "cell_type": "markdown",
   "metadata": {},
   "source": [
    "In this problem, you will fill in several blank parts of the code to make DeepQLearning work. You will then answer a few brief questions about the learning progress of a Q-learning algorithm.\n",
    "\n",
    "Note that we are applying deep-q-learning to cartpole, which has a continuous state space! This is not possible with the tabular version of q-learning from the last problem, because you can not trivially map continuous values into a lookup table."
   ]
  },
  {
   "cell_type": "code",
   "execution_count": 1,
   "metadata": {},
   "outputs": [],
   "source": [
    "import torch\n",
    "import torch.nn as nn\n",
    "import numpy as np\n",
    "import matplotlib.pyplot as plt\n",
    "import random\n",
    "import gym"
   ]
  },
  {
   "cell_type": "code",
   "execution_count": 2,
   "metadata": {},
   "outputs": [],
   "source": [
    "device = torch.device('cuda' if torch.cuda.is_available() else 'cpu')\n",
    "\n",
    "NStates = 4\n",
    "NActions = 2"
   ]
  },
  {
   "cell_type": "code",
   "execution_count": 3,
   "metadata": {},
   "outputs": [],
   "source": [
    "# Define our neural net we will use to estimate the Q-function\n",
    "class QFunctionNet(nn.Module):\n",
    "    def __init__(self, input_size, hidden_size, num_classes):\n",
    "        super(QFunctionNet, self).__init__()\n",
    "        self.fc1 = nn.Linear(input_size, hidden_size)\n",
    "        self.relu = nn.ReLU()\n",
    "        self.fc2 = nn.Linear(hidden_size, num_classes)\n",
    "\n",
    "    def forward(self, x):\n",
    "        out = self.fc1(x)\n",
    "        out = self.relu(out)\n",
    "        out = self.fc2(out)\n",
    "        return out"
   ]
  },
  {
   "cell_type": "markdown",
   "metadata": {},
   "source": [
    "Next we need to add a replay buffer. This buffer should hold past data collected by the agent. It should have a max memory size of 10,000. The buffer should be circular, in the sense that the oldest data gets removed once it reaches the overflow limit.\n",
    "\n",
    "You need to implement add_to_buffer, which allows you to add data to the buffer. You also need to implement sample_buffer, which pulls at random (with replacement) 32 datapoints from the buffer and returns them."
   ]
  },
  {
   "cell_type": "code",
   "execution_count": 4,
   "metadata": {},
   "outputs": [],
   "source": [
    "class ReplayBuffer:\n",
    "    def __init__(self, mem_size=10000):\n",
    "        self.mem_count = 0\n",
    "        self.mem_size = mem_size\n",
    "        self.states = np.zeros((mem_size, 4), dtype=np.float32)\n",
    "        self.actions = np.zeros(mem_size, dtype=np.int64)\n",
    "        self.rewards = np.zeros(mem_size, dtype=np.float32)\n",
    "        self.next_states = np.zeros((mem_size, 4), dtype=np.float32)\n",
    "        self.terminated = np.zeros(mem_size, dtype=bool)\n",
    "\n",
    "    def add_to_buffer(self, state, action, reward, next_state, terminated):\n",
    "        # add state, action, reward, next_state, terminated to the buffer. Note you only have one copy of each. For example, state is just a (4,) dimensional array.\n",
    "        self.states[self.mem_count % self.mem_size, range(4)] = state\n",
    "        self.actions[self.mem_count % self.mem_size] = action\n",
    "        self.rewards[self.mem_count % self.mem_size] = reward\n",
    "        self.next_states[self.mem_count % self.mem_size, range(4)] = next_state\n",
    "        self.terminated[self.mem_count % self.mem_size] = terminated\n",
    "        self.mem_count += 1\n",
    "        return True\n",
    "\n",
    "    def sample_buffer(self, batch_size=32):\n",
    "        MEM_MAX = np.min([self.mem_count, self.mem_size])\n",
    "        batch_indices = np.random.choice(MEM_MAX, batch_size, replace = True)\n",
    "        states_mb = self.states[batch_indices,]\n",
    "        actions_mb = self.actions[batch_indices]\n",
    "        rewards_mb = self.rewards[batch_indices]\n",
    "        next_states_mb = self.next_states[batch_indices,]\n",
    "        terminated_mb = self.terminated[batch_indices]\n",
    "        return states_mb, actions_mb, rewards_mb, next_states_mb, terminated_mb"
   ]
  },
  {
   "cell_type": "markdown",
   "metadata": {},
   "source": [
    "RL agents are typically writen as classes with three essential methods. First, an initialization. Second, train which takes a batch of states, actions, rewards, next states, and termination signals and trains the neural network loss. Finally, a get_action function which takes the current observation and returns the action the agent should take."
   ]
  },
  {
   "cell_type": "code",
   "execution_count": 5,
   "metadata": {},
   "outputs": [],
   "source": [
    "class QLearningAgent:\n",
    "    def __init__(self, env, epsilon_greedy_threshold=0.50, epsilon_decay=0.995):\n",
    "        self.env = env\n",
    "        #self.replayBuffer = ReplayBuffer()\n",
    "        self.q_func = QFunctionNet(input_size=NStates, num_classes=NActions, hidden_size=128).to(device)\n",
    "\n",
    "        self.criterion = nn.MSELoss()\n",
    "#         self.criterion = nn.SmoothL1Loss()\n",
    "#         self.optimizer = torch.optim.RMSprop(self.q_func.parameters())\n",
    "        self.optimizer = torch.optim.Adam(self.q_func.parameters(), lr=0.0001)\n",
    "\n",
    "        self.epsilon_greedy_threshold = epsilon_greedy_threshold\n",
    "        self.epsilon_decay = epsilon_decay\n",
    "\n",
    "        self.gamma = 0.95\n",
    "\n",
    "        self.total_training_steps = 0\n",
    "\n",
    "    def train(self, states, acts, rews, next_states, terminated):\n",
    "\n",
    "        #Torch and numpy don't like each other. So you have to spend a lot of time doing these kinds of conversions from numpy data that is stored in the buffer into Torch data. This is just making sure Torch can process the data, by converting it into a tensor.\n",
    "        states_torch = torch.from_numpy(states).float()\n",
    "        acts_torch = torch.from_numpy(acts)\n",
    "        next_states_torch = torch.from_numpy(next_states).float()\n",
    "        rews_torch = torch.from_numpy(rews).float()\n",
    "        terminated_torch = torch.from_numpy(terminated).float()\n",
    "\n",
    "        # you need this to grab the q-values at the current state.\n",
    "        batch_indices = np.arange(len(states), dtype=np.int64)\n",
    "\n",
    "\n",
    "        q_values = self.q_func(states_torch)# use your neural net\n",
    "        next_q_values = self.q_func(next_states_torch)# use your neural net again\n",
    "\n",
    "        # This is the Q-values at the actions that were actually taken. So you need to fill in the second index to account for the actions that were taken.\n",
    "        predicted_q_values_at_actions_taken = predicted_value_of_now = q_values[batch_indices, acts_torch]\n",
    "\n",
    "        # remember how Q-learning assumes you take the action leading to the maximal q-value at the next step? It's the argmax part of the td-target. This is the code version of that situation. You want to look at next_q_values and take the max along the action dimension, which will give you the estimated q-value at the best possible action.\n",
    "\n",
    "        # Use the torch.max function. \n",
    "        predicted_q_values_at_best_future_actions = torch.max(next_q_values, dim=1)[0]####\n",
    "\n",
    "        # Fill in the missing term in the q-target.\n",
    "        q_target = rews_torch + self.gamma * predicted_q_values_at_best_future_actions * (1-terminated_torch)\n",
    "\n",
    "\n",
    "        loss = self.criterion(q_target, predicted_q_values_at_actions_taken)\n",
    "\n",
    "        self.optimizer.zero_grad()\n",
    "        loss.backward()\n",
    "\n",
    "        self.optimizer.step()\n",
    "\n",
    "        if self.total_training_steps % 1 == 0:\n",
    "            # There are a few ways to handle decreasing the epsilon greedy threshold.\n",
    "            # They tend to involve either multiplication or subtraction.\n",
    "            # You want the threshold to decay towards 0 over the course of training.\n",
    "            self.epsilon_greedy_threshold *= self.epsilon_decay\n",
    "\n",
    "        self.total_training_steps += 1\n",
    "\n",
    "    def get_action(self, obs, evaluate=False):\n",
    "        obs_correct_format = torch.from_numpy(np.expand_dims(obs, 0))\n",
    "        action_values = self.q_func(obs_correct_format)\n",
    "        action_values = action_values.cpu().detach().numpy()[0]\n",
    "\n",
    "        # during evaluation, we do not want epsilon greedy sampling.\n",
    "        if evaluate is False:\n",
    "            p = random.uniform(0, 1)\n",
    "            if p > self.epsilon_greedy_threshold:\n",
    "                action = np.argmax(action_values) \n",
    "            else:\n",
    "                action = self.env.action_space.sample()\n",
    "            return action\n",
    "        else:\n",
    "            # we are not evaluating, so we always want to return the best action with no exploration.\n",
    "            action = np.argmax(action_values)\n",
    "            return action"
   ]
  },
  {
   "cell_type": "markdown",
   "metadata": {},
   "source": [
    "Fancy plotting utility shown in class. Can produce a plot in real time, making it look kind of like a video. It's fun to use sometimes, although not really practical in real life."
   ]
  },
  {
   "cell_type": "code",
   "execution_count": 6,
   "metadata": {},
   "outputs": [],
   "source": [
    "def plot_fancy(steps_survived_history):\n",
    "    plt.figure(2)\n",
    "    plt.clf()\n",
    "    #durations_t = torch.FloatTensor(episode_durations)\n",
    "    steps_survived_history_torch = torch.FloatTensor(steps_survived_history)\n",
    "    plt.title('Training...')\n",
    "    plt.xlabel('Episode')\n",
    "    plt.ylabel('Duration')\n",
    "    plt.plot(np.array(steps_survived_history))\n",
    "    # take 100 episode averages and plot them too\n",
    "    if len(steps_survived_history) >= 20:\n",
    "        means = steps_survived_history_torch.unfold(0, 20, 1).mean(1).view(-1)\n",
    "        means = torch.cat((torch.zeros(19), means))\n",
    "        plt.plot(means.numpy())\n",
    "\n",
    "    plt.pause(0.001)  # pause a bit so that plots are updated"
   ]
  },
  {
   "cell_type": "markdown",
   "metadata": {},
   "source": [
    "Now all we need is the main loop."
   ]
  },
  {
   "cell_type": "code",
   "execution_count": 7,
   "metadata": {},
   "outputs": [],
   "source": [
    "def main():\n",
    "\n",
    "    env = gym.make('CartPole-v1')\n",
    "    env.action_space.seed(42)\n",
    "    env.observation_space.seed(42)\n",
    "    np.random.seed(42)\n",
    "    random.seed(42)\n",
    "\n",
    "    obs, info = env.reset()\n",
    "\n",
    "    replay_buffer = ReplayBuffer()\n",
    "    q_learning_agent = QLearningAgent(env = env)\n",
    "\n",
    "    # total training episodes\n",
    "    epochs = 2000\n",
    "\n",
    "    # Store the history of how long we survive.\n",
    "    steps_survived_history = []\n",
    "    x_labs = []\n",
    "\n",
    "    for ep in range(epochs):\n",
    "        obs, info = env.reset()\n",
    "        terminated = False\n",
    "\n",
    "        steps_survived = 0\n",
    "\n",
    "        while not terminated:\n",
    "\n",
    "            action = q_learning_agent.get_action(obs=obs)\n",
    "\n",
    "            next_obs, reward, terminated, truncated, info = env.step(action)\n",
    "\n",
    "            replay_buffer.add_to_buffer(state=obs, action=action,\n",
    "                                        reward=reward, next_state=next_obs,\n",
    "                                        terminated=terminated)\n",
    "\n",
    "            obs = next_obs\n",
    "\n",
    "            steps_survived += 1\n",
    "\n",
    "            if steps_survived > 450:\n",
    "                break\n",
    "\n",
    "        if(len(replay_buffer.states)) > 100:\n",
    "            # train 20 times per episode collected.\n",
    "            for i in range(0, 50):\n",
    "                states_mb, acts_mb, rews_mb, next_states_mb, terminated = replay_buffer.sample_buffer(batch_size=32)\n",
    "                q_learning_agent.train(states_mb, acts_mb, rews_mb, next_states_mb, terminated)\n",
    "\n",
    "        if ep % 7 == 0 and ep > 0:\n",
    "\n",
    "            steps_survived = 0\n",
    "            obs, info = env.reset()\n",
    "            terminated = False\n",
    "\n",
    "            # We do an evaluation loop without exploration.\n",
    "            while not terminated:\n",
    "                steps_survived += 1\n",
    "                action = q_learning_agent.get_action(obs=obs, evaluate=True)\n",
    "\n",
    "                next_obs, reward, terminated, truncated, info = env.step(action)\n",
    "\n",
    "                obs = next_obs\n",
    "\n",
    "                if steps_survived > 450:\n",
    "                    break\n",
    "\n",
    "            steps_survived_history.append(steps_survived)\n",
    "#             print(steps_survived)\n",
    "\n",
    "            #uncomment the line below for fancy plotting.\n",
    "#             plot_fancy(steps_survived_history)\n",
    "            x_labs.append(ep)\n",
    "\n",
    "    plt.plot(x_labs, steps_survived_history, label='Steps Survived')\n",
    "    plt.legend()\n",
    "    plt.show()\n",
    "    print(np.mean(steps_survived_history[-100:-1]))"
   ]
  },
  {
   "cell_type": "code",
   "execution_count": 8,
   "metadata": {},
   "outputs": [
    {
     "data": {
      "image/png": "[encoded data removed]",
      "text/plain": [
       "<Figure size 432x288 with 1 Axes>"
      ]
     },
     "metadata": {
      "needs_background": "light"
     },
     "output_type": "display_data"
    },
    {
     "name": "stdout",
     "output_type": "stream",
     "text": [
      "195.16161616161617\n"
     ]
    }
   ],
   "source": [
    "if __name__ == \"__main__\":\n",
    "    main()"
   ]
  },
  {
   "cell_type": "markdown",
   "metadata": {},
   "source": [
    "# Please answer the following questions"
   ]
  },
  {
   "cell_type": "markdown",
   "metadata": {},
   "source": [
    "# #1 Fill in the missing code.\n",
    "After finishing the code, plot the learning curve, with the x-axis being the number of training steps, and the y-axis being the amount of time cartpole survives. Note that this code will automatically be generated by lines 74-76 above, you don't have to write any additional code to do this.\n",
    "\n",
    "As we saw in class, the return can be quite unstable. Please include this plot in your final write-up.\n"
   ]
  },
  {
   "cell_type": "markdown",
   "metadata": {},
   "source": [
    "# #2 Can you do better?\n",
    "\n",
    "Spend 10-30 minutes playing around with the algorithm. You might want to change the discount factor gamma. You can also change the number of times you train per episode collected, which is currently set to 20. Another interesting value is the rate at which the epsilon threshold in epsilon greedy exploration decays. You could also try changing the number of hidden units in the neural network. Or the optimizer learning rate.\n",
    "\n",
    "Please include your best learning curve in the final write-up. More importantly, what parameters were most important to training? Are there any parameters that negatively impact the results if they are changed?"
   ]
  }
 ],
 "metadata": {
  "kernelspec": {
   "display_name": "Python 3 (ipykernel)",
   "language": "python",
   "name": "python3"
  },
  "language_info": {
   "codemirror_mode": {
    "name": "ipython",
    "version": 3
   },
   "file_extension": ".py",
   "mimetype": "text/x-python",
   "name": "python",
   "nbconvert_exporter": "python",
   "pygments_lexer": "ipython3",
   "version": "3.9.12"
  }
 },
 "nbformat": 4,
 "nbformat_minor": 1
}
