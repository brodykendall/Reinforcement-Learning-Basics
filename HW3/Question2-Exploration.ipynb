{
 "cells": [
  {
   "cell_type": "markdown",
   "metadata": {
    "collapsed": false
   },
   "source": [
    "Mountain Car is an OpenAI gym environment wherein you train a toy car to drive up a mountain. The twist is that the car can not accelerate enough to make it up the mountain in one pass. But luckily the car is trapped in a basin, there are mountains to the left and right. The car can build up velocity by moving a bit to the right, then to the left and so on, gradually getting higher up the mountain with each iteration.\n",
    "\n",
    "A visualization of this environment can be seen here.\n",
    "\n",
    "https://yashbansod.github.io/projects/CMSC_818B_Decision_Making_in_Robotics/Q_learning/solved_mountaincar.gif\n",
    "\n",
    "Mountain car is very difficult because the agent only receives a reward of 1 at the end of training and a reward of 0 otherwise. But reaching the top of the mountain by random chance is almost impossible. Thus, we require exploration to solve the problem.\n"
   ]
  },
  {
   "cell_type": "markdown",
   "metadata": {
    "collapsed": false
   },
   "source": [
    "Starting from your code for Question 1. Change the environment to be mountain car."
   ]
  },
  {
   "cell_type": "code",
   "execution_count": 1,
   "metadata": {},
   "outputs": [
    {
     "name": "stderr",
     "output_type": "stream",
     "text": [
      "/opt/homebrew/lib/python3.10/site-packages/tqdm/auto.py:22: TqdmWarning: IProgress not found. Please update jupyter and ipywidgets. See https://ipywidgets.readthedocs.io/en/stable/user_install.html\n",
      "  from .autonotebook import tqdm as notebook_tqdm\n"
     ]
    }
   ],
   "source": [
    "# imports\n",
    "import gym\n",
    "import numpy as np\n",
    "import matplotlib.pyplot as plt\n",
    "import random\n",
    "import torch.nn as nn\n",
    "import torch\n",
    "from torch.distributions import Normal\n",
    "import torch.nn.functional as F\n",
    "\n",
    "device = torch.device(\"cpu\")"
   ]
  },
  {
   "cell_type": "code",
   "execution_count": 2,
   "metadata": {},
   "outputs": [],
   "source": [
    "class ActorNet(nn.Module):\n",
    "    def __init__(self, input_size, num_actions, hidden_size=128):\n",
    "        super(ActorNet, self).__init__()\n",
    "\n",
    "        self.fc_shared = nn.Linear(input_size, hidden_size)\n",
    "        self.fc_mu = nn.Linear(hidden_size, num_actions)\n",
    "        self.fc_log_std = nn.Linear(hidden_size, num_actions)\n",
    "        self.relu = nn.ReLU()\n",
    "        self.tanh = nn.Tanh()\n",
    "        self.softplus = nn.Softplus()\n",
    "\n",
    "    def forward(self, state):\n",
    "        \"\"\"Forward method implementation.\"\"\"\n",
    "        x = self.relu(self.fc_shared(state))\n",
    "\n",
    "        mu = 2*self.tanh(self.fc_mu(x))\n",
    "        log_std = self.softplus(self.fc_log_std(x))\n",
    "        std = torch.exp(log_std)\n",
    "\n",
    "        gaussian_policy = Normal(mu, std)\n",
    "        action = gaussian_policy.sample()\n",
    "\n",
    "        return action, gaussian_policy"
   ]
  },
  {
   "cell_type": "code",
   "execution_count": 3,
   "metadata": {},
   "outputs": [],
   "source": [
    "class CriticNet(nn.Module):\n",
    "    def __init__(self, input_size, hidden_size):\n",
    "        \"\"\"Initialize.\"\"\"\n",
    "        super(CriticNet, self).__init__()\n",
    "\n",
    "        self.fc1 = nn.Linear(input_size, hidden_size)\n",
    "        self.out = nn.Linear(hidden_size, 1)\n",
    "        self.relu = nn.ReLU()\n",
    "\n",
    "    def forward(self, state):\n",
    "        \"\"\"Forward method implementation.\"\"\"\n",
    "        x = self.relu(self.fc1(state))\n",
    "        value = self.out(x)\n",
    "        return value"
   ]
  },
  {
   "cell_type": "code",
   "execution_count": 4,
   "metadata": {},
   "outputs": [],
   "source": [
    "class A2CAgent:\n",
    "    # def __init__(self, env, gamma=0.9, entropy_weighting=1e-2):\n",
    "    def __init__(self, env, gamma=.99, entropy_weighting=.1):\n",
    "        \"\"\"Initialize.\"\"\"\n",
    "        self.env = env\n",
    "        self.gamma = gamma\n",
    "        self.entropy_weighting = entropy_weighting\n",
    "\n",
    "        obs_dim = env.observation_space.shape[0]\n",
    "        action_dim = env.action_space.shape[0]\n",
    "        self.actor = ActorNet(obs_dim, action_dim).to(device)\n",
    "        self.critic = CriticNet(obs_dim, hidden_size=64).to(device)\n",
    "\n",
    "        self.actor_optimizer = torch.optim.Adam(self.actor.parameters(), lr=1e-4)\n",
    "        self.critic_optimizer = torch.optim.Adam(self.critic.parameters(), lr=1e-3)\n",
    "\n",
    "    def select_action(self, state):\n",
    "        state = torch.FloatTensor(state).to(device)\n",
    "        action, gaussian_policy = self.actor(state)\n",
    "        log_prob = gaussian_policy.log_prob(action)\n",
    "        # You want the probability of the action under this policy.\n",
    "        # So look into gaussian_policy's log_prob method.\n",
    "        # https://pytorch.org/docs/stable/distributions.html\n",
    "        action_np = action.clamp(-2.0, 2.0).cpu().detach().numpy()\n",
    "        return log_prob, action_np\n",
    "\n",
    "    def step(self, action):\n",
    "        \"\"\"Take an action and return the response of the env.\"\"\"\n",
    "        next_state, reward, terminated, truncated, info = self.env.step(action)\n",
    "        return next_state, reward, terminated\n",
    "\n",
    "    def update_model(self, state, log_prob, next_state, reward, done):\n",
    "        # Q_t   = r + gamma * V(s_{t+1})  if state != Terminal\n",
    "        #       = r                       otherwise\n",
    "        mask = 1 - done\n",
    "        predicted_value = self.critic(next_state)\n",
    "        targ_value = reward + self.gamma * predicted_value * mask\n",
    "        value_loss = F.smooth_l1_loss(predicted_value, targ_value.detach())\n",
    "\n",
    "        # update value\n",
    "        self.critic_optimizer.zero_grad()\n",
    "        value_loss.backward()\n",
    "        self.critic_optimizer.step()\n",
    "\n",
    "        # advantage = Q_t - V(s_t)\n",
    "        advantage = targ_value - self.critic(state)\n",
    "        advantage = advantage.detach()  # not backpropagated\n",
    "        policy_loss = -log_prob * advantage\n",
    "        policy_loss += self.entropy_weighting * -log_prob  # entropy maximization. Improves training.\n",
    "\n",
    "        # update policy\n",
    "        self.actor_optimizer.zero_grad()\n",
    "        policy_loss.backward()\n",
    "        self.actor_optimizer.step()\n",
    "\n",
    "        return policy_loss.item(), value_loss.item()"
   ]
  },
  {
   "cell_type": "markdown",
   "metadata": {
    "collapsed": false
   },
   "source": [
    "Be sure to set the horizon to 998."
   ]
  },
  {
   "cell_type": "markdown",
   "metadata": {
    "collapsed": false
   },
   "source": [
    "Your main job in this question is to implement a class called BonusGiver that takes the current state and returns a bonus based on how many times that state has been visited.\n"
   ]
  },
  {
   "cell_type": "code",
   "execution_count": 5,
   "metadata": {},
   "outputs": [],
   "source": [
    "class BonusGiver:\n",
    "    def __init__(self, env):\n",
    "        self.high = env.observation_space.high\n",
    "        self.low = env.observation_space.low\n",
    "\n",
    "        self.n_visits = {x:0 for x in range(25)}\n",
    "        # you may want to initialize self.n_visits based on your\n",
    "        # discretization scheme from discretize_state below.\n",
    "\n",
    "    def discretize_state(self, state):\n",
    "        index = 0\n",
    "        lower_limit = self.low[0] + (self.high[0] - self.low[0])*1/25\n",
    "        while(lower_limit <= state):\n",
    "            lower_limit += (self.high[0] - self.low[0])*1/25\n",
    "            index += 1\n",
    "        return index\n",
    "        # The state is continuous, but we want to give a bonus based on the visitation\n",
    "        # count. You will need to sub-divide the state into bins.\n",
    "        # I suggest 25 equally spaced bins. Then return the bin index for the current state. That is, return the bucket index that the current state is closest to.\n",
    "\n",
    "    def get_bonus(self, state):\n",
    "        beta = 1.0\n",
    "        # beta = 5.0\n",
    "        state = state[0] # we only want the first dimension of the state.\n",
    "        state = self.discretize_state(state)\n",
    "        # self.n_visits[state] = FFFF # You now want to incremenet the visit count for this state by 1.\n",
    "        self.n_visits[state] += 1 # You now want to incremenet the visit count for this state by 1.\n",
    "        state_visitation = self.n_visits[state]\n",
    "        # return FFF # Finally, return an exploration bonus based on the\n",
    "        # number of times the state was visited. Use beta in the bonus.\n",
    "        # Usually this bonus has the form 1/N(S), where N(s) is the visitation count.\n",
    "        # See the lecture 9 notes.\n",
    "        # return beta/np.sqrt(state_visitation)\n",
    "        return beta/state_visitation"
   ]
  },
  {
   "cell_type": "code",
   "execution_count": 6,
   "metadata": {
    "collapsed": false
   },
   "outputs": [],
   "source": [
    "def main(total_steps=10000):\n",
    "    env_id = \"MountainCarContinuous-v0\"\n",
    "    env = gym.make(env_id)\n",
    "    state, info = env.reset()\n",
    "    next_state, reward, terminated, truncated, info = env.step(env.action_space.sample())\n",
    "    state, info = env.reset()\n",
    "    state = torch.FloatTensor(state).to(device)\n",
    "    agent = A2CAgent(env)\n",
    "    actor_losses, critic_losses, episode_rewards_history, episode_steps_history = [], [], [], []\n",
    "    horizon = 998\n",
    "    total_episode_reward = 0\n",
    "    episode_steps = 0\n",
    "    bonus_giver = BonusGiver(env)\n",
    "\n",
    "    for current_step in range(0, total_steps):\n",
    "        log_prob, action = agent.select_action(state)\n",
    "        next_state, reward, done = agent.step(action)\n",
    "        if reward < 50:\n",
    "            reward = bonus_giver.get_bonus(next_state)\n",
    "            # reward = 0\n",
    "        else:\n",
    "            #If reward is higher than 50, we solved the env. So we want to keep that signal.\n",
    "            print(reward)\n",
    "            print(\"environment solved\")\n",
    "        next_state = torch.FloatTensor(next_state).to(device)\n",
    "        actor_loss, critic_loss = agent.update_model(state, log_prob, next_state, reward, done)\n",
    "        actor_losses.append(actor_loss)\n",
    "        critic_losses.append(critic_loss)\n",
    "\n",
    "        state = next_state\n",
    "        total_episode_reward += reward\n",
    "        episode_steps += 1\n",
    "\n",
    "\n",
    "        # if episode ends\n",
    "        if done or (current_step % horizon == 0 and current_step > 1):\n",
    "            #print(\"episode terminated\")\n",
    "            state, info = env.reset()\n",
    "            state = torch.FloatTensor(state).to(device)\n",
    "            episode_rewards_history.append(total_episode_reward)\n",
    "            episode_steps_history.append(episode_steps)\n",
    "            # plot_fancy(episode_rewards_history)\n",
    "            print(total_episode_reward)\n",
    "            total_episode_reward = 0\n",
    "            episode_steps = 0\n",
    "    plt.plot(range(len(episode_rewards_history)), episode_rewards_history, label='Total episode rewards')\n",
    "    plt.legend()\n",
    "    plt.show()\n",
    "    plt.plot(range(len(episode_steps_history)), episode_steps_history, label='Time to solve')\n",
    "    plt.legend()\n",
    "    plt.show()"
   ]
  },
  {
   "cell_type": "code",
   "execution_count": 7,
   "metadata": {},
   "outputs": [
    {
     "name": "stdout",
     "output_type": "stream",
     "text": [
      "66.94760358625071\n",
      "9.717074962685244\n",
      "4.559525728931905\n",
      "29.71161787888391\n",
      "2.5277190194575474\n",
      "99.96486374589222\n",
      "environment solved\n",
      "109.75725901449557\n",
      "0.6530490234443851\n",
      "5.380694166000652\n",
      "2.2777679838667235\n",
      "99.83217488326727\n",
      "environment solved\n",
      "103.98285826515155\n",
      "0.30905064422420986\n",
      "0.9919001231420829\n"
     ]
    },
    {
     "data": {
      "image/png": "[encoded data removed]",
      "text/plain": [
       "<Figure size 640x480 with 1 Axes>"
      ]
     },
     "metadata": {},
     "output_type": "display_data"
    },
    {
     "data": {
      "image/png": "[encoded data removed]",
      "text/plain": [
       "<Figure size 640x480 with 1 Axes>"
      ]
     },
     "metadata": {},
     "output_type": "display_data"
    }
   ],
   "source": [
    "if __name__ == \"__main__\":\n",
    "    main()"
   ]
  },
  {
   "cell_type": "markdown",
   "metadata": {
    "collapsed": false
   },
   "source": [
    "Here is some starter code for BonusGiver."
   ]
  },
  {
   "cell_type": "markdown",
   "metadata": {
    "collapsed": false
   },
   "source": [
    "# Please answer the following questions"
   ]
  },
  {
   "cell_type": "markdown",
   "metadata": {
    "collapsed": false
   },
   "source": [
    "# #1 Basic Question\n",
    "\n",
    "How many states are there? How many actions?\n"
   ]
  },
  {
   "cell_type": "markdown",
   "metadata": {},
   "source": [
    "Infinite (continuous state space), infinite (continuous action space)"
   ]
  },
  {
   "cell_type": "markdown",
   "metadata": {
    "collapsed": false
   },
   "source": [
    "# #2 Finish BonusGiver, and implement it into your code from part 1.\n",
    "\n",
    "Using bonuses, plot learning curves showing the following:\n",
    "\n",
    "a) Sum of episode rewards vs time. That is, each data point on the y-axis is the sum of rewards for a given episode, and the x-axis is the total training steps.\n",
    "\n",
    "b) 'Time to solve' vs time. The y-axis in this case is how long it takes the agent to reach the top of the cliff. When this happens, the agent receives a large reward and the episode terminates. Thus, this is the time it makes the agent to solve the environment on a per-episode basis.\n",
    "\n",
    "c) Remake the plot from part a with no exploration bonuses. Is there a difference from your result in part a? Note in the case of implementing part a with no bonuses, you should instead use a reward of 0 if the environment is not solved. See below."
   ]
  },
  {
   "cell_type": "markdown",
   "metadata": {
    "collapsed": false
   },
   "source": [
    "# #3 Does beta matter?\n",
    "\n",
    "a) Try a few different values of beta. Does changing it improve performance? Use the 'time to solve' metric from 2.b\n",
    "\n",
    "b) Finally, there are two common ways to return exploration bonuses based on state visitation. The first is: 1/N(s), one over the number of times the state is visited. The second is 1/(sqrt(N(s)), one over the square root of the state visitation count. Compare these using the 'sum of episodes rewards' metric from 2.a\n"
   ]
  }
 ],
 "metadata": {
  "kernelspec": {
   "display_name": "Python 3.10.8 64-bit",
   "language": "python",
   "name": "python3"
  },
  "language_info": {
   "codemirror_mode": {
    "name": "ipython",
    "version": 3
   },
   "file_extension": ".py",
   "mimetype": "text/x-python",
   "name": "python",
   "nbconvert_exporter": "python",
   "pygments_lexer": "ipython3",
   "version": "3.10.8"
  },
  "vscode": {
   "interpreter": {
    "hash": "b0fa6594d8f4cbf19f97940f81e996739fb7646882a419484c72d19e05852a7e"
   }
  }
 },
 "nbformat": 4,
 "nbformat_minor": 0
}
