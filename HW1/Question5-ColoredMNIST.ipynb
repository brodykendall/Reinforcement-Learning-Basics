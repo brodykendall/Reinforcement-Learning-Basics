{
 "cells": [
  {
   "cell_type": "code",
   "execution_count": 4,
   "metadata": {
    "id": "cqMAWZMU078c"
   },
   "outputs": [],
   "source": [
    "from torch.utils.data import DataLoader\n",
    "import torch\n",
    "import torch.nn as nn\n",
    "import torchvision\n",
    "import torchvision.transforms as transforms\n",
    "import numpy as np\n",
    "\n",
    "# Device configuration\n",
    "device = torch.device('cuda' if torch.cuda.is_available() else 'cpu')\n",
    "\n",
    "batch_size = 100\n",
    "\n",
    "torch.manual_seed(300)\n",
    "\n",
    "\n",
    "# MNIST dataset\n",
    "train_dataset = torchvision.datasets.MNIST(root='datasets/',\n",
    "                                           train=True,\n",
    "                                           transform=transforms.ToTensor(),\n",
    "                                           download=True)\n",
    "\n",
    "test_dataset = torchvision.datasets.MNIST(root='datasets/',\n",
    "                                          train=False,\n",
    "                                          transform=transforms.ToTensor())\n",
    "\n",
    "# Data loader\n",
    "train_loader = torch.utils.data.DataLoader(dataset=train_dataset,\n",
    "                                           batch_size=batch_size,\n",
    "                                           shuffle=True)\n",
    "\n",
    "test_loader = torch.utils.data.DataLoader(dataset=test_dataset,\n",
    "                                          batch_size=batch_size,\n",
    "                                          shuffle=False)\n",
    "\n",
    "# To actually get some data for training.\n",
    "for i, (images, labels) in enumerate(train_loader):\n",
    "    images = images.to(device)\n",
    "    labels = labels.to(device)\n",
    "    \n",
    "# To actually get some data for testing.\n",
    "for i, (test_images, test_labels) in enumerate(test_loader):\n",
    "    test_images = test_images.to(device)\n",
    "    test_labels = test_labels.to(device)"
   ]
  },
  {
   "cell_type": "markdown",
   "metadata": {},
   "source": [
    "Note that MNIST digits are catagorical, and not continuous, so we should use cross entropy loss rather than Euclidean loss."
   ]
  },
  {
   "cell_type": "markdown",
   "metadata": {
    "id": "BwiEmsXiEIsq"
   },
   "source": [
    "# Please do the following."
   ]
  },
  {
   "cell_type": "markdown",
   "metadata": {
    "id": "eFocI-YzEMhm"
   },
   "source": [
    "# #1 - Visualize one of the MNIST digits.\n",
    "\n",
    "That is, render the numpy array using matplotlib or similar. Include the render in your homework write-up."
   ]
  },
  {
   "cell_type": "code",
   "execution_count": 5,
   "metadata": {},
   "outputs": [],
   "source": [
    "import matplotlib.pyplot as plt"
   ]
  },
  {
   "cell_type": "code",
   "execution_count": 6,
   "metadata": {},
   "outputs": [
    {
     "data": {
      "text/plain": [
       "<matplotlib.image.AxesImage at 0x7ff27900cd50>"
      ]
     },
     "execution_count": 6,
     "metadata": {},
     "output_type": "execute_result"
    },
    {
     "data": {
      "image/png": "[encoded data removed]",
      "text/plain": [
       "<Figure size 640x480 with 1 Axes>"
      ]
     },
     "metadata": {},
     "output_type": "display_data"
    }
   ],
   "source": [
    "# Code inspired by:\n",
    "# https://stackoverflow.com/questions/37228371/visualize-mnist-dataset-using-opencv-or-matplotlib-pyplot\n",
    "plt.title('Label is {label}'.format(label=labels[0]))\n",
    "plt.imshow(images[0].reshape((28, 28)), cmap='gray')"
   ]
  },
  {
   "cell_type": "markdown",
   "metadata": {
    "id": "Ndb_oVYlEY2o"
   },
   "source": [
    "# #2 - By default, the MNIST digits are grey scale. But we want them to be RGB.\n",
    "\n",
    "Convert the MNIST digits to RGB. Hint: you want the arrays to go from (N, 28, 28) to (N, 28, 28, 3)"
   ]
  },
  {
   "cell_type": "code",
   "execution_count": 7,
   "metadata": {},
   "outputs": [],
   "source": [
    "# Code inspired by:\n",
    "# https://discuss.pytorch.org/t/grayscale-to-rgb-transform/18315\n",
    "images_rgb = torch.stack([images, images, images], 4)\n",
    "test_images_rgb = torch.stack([test_images, test_images, test_images], 4)"
   ]
  },
  {
   "cell_type": "code",
   "execution_count": 8,
   "metadata": {},
   "outputs": [
    {
     "data": {
      "text/plain": [
       "<matplotlib.image.AxesImage at 0x7ff29a217e10>"
      ]
     },
     "execution_count": 8,
     "metadata": {},
     "output_type": "execute_result"
    },
    {
     "data": {
      "image/png": "[encoded data removed]",
      "text/plain": [
       "<Figure size 640x480 with 1 Axes>"
      ]
     },
     "metadata": {},
     "output_type": "display_data"
    }
   ],
   "source": [
    "plt.title('Label is {label}'.format(label=labels[0]))\n",
    "plt.imshow(images_rgb[0].reshape((28, 28, 3)), cmap='gray')"
   ]
  },
  {
   "cell_type": "markdown",
   "metadata": {
    "id": "axPUX-_kEbX-"
   },
   "source": [
    "# #3 -  Write code that trains a fully connected neural network on your transformed MNIST data.\n",
    "Your network should have 3 layers and use Tanh activations.\n",
    "You should train for 5 epochs, each having at 1,000 training steps.\n",
    "Plot the learning curve, which has a test set accuracy on the y-axis, and total training time on the x-axis.\n",
    "\n",
    "Hint: Start from Question 1 and re-use the code. However, make sure to switch the loss from euclidean to cross entropy."
   ]
  },
  {
   "cell_type": "code",
   "execution_count": 9,
   "metadata": {},
   "outputs": [],
   "source": [
    "# Fully connected neural network with one hidden layer\n",
    "class NeuralNet(nn.Module):\n",
    "    def __init__(self, input_size, hidden_size, num_classes):\n",
    "        super(NeuralNet, self).__init__()\n",
    "        self.fc1 = nn.Linear(input_size, hidden_size)\n",
    "        self.tanh = nn.Tanh()\n",
    "        self.fc2 = nn.Linear(hidden_size, num_classes)\n",
    "\n",
    "    def forward(self, x):\n",
    "        out = self.fc1(x)\n",
    "        out = self.tanh(out)\n",
    "        out = self.fc2(out)\n",
    "        return out"
   ]
  },
  {
   "cell_type": "code",
   "execution_count": 10,
   "metadata": {},
   "outputs": [],
   "source": [
    "# Hyper-parameters\n",
    "input_size = 2352\n",
    "hidden_size = 500\n",
    "num_classes = 10\n",
    "num_epochs = 5\n",
    "training_steps = 1000\n",
    "learning_rate = 0.001"
   ]
  },
  {
   "cell_type": "code",
   "execution_count": 11,
   "metadata": {},
   "outputs": [],
   "source": [
    "model = NeuralNet(input_size, hidden_size, num_classes).to(device)"
   ]
  },
  {
   "cell_type": "code",
   "execution_count": 12,
   "metadata": {},
   "outputs": [],
   "source": [
    "criterion = nn.CrossEntropyLoss()\n",
    "optimizer = torch.optim.SGD(model.parameters(), lr=learning_rate)"
   ]
  },
  {
   "cell_type": "code",
   "execution_count": 13,
   "metadata": {},
   "outputs": [
    {
     "name": "stdout",
     "output_type": "stream",
     "text": [
      "Epoch [1/5], Step [100/1000], Loss: 2.1136\n",
      "Epoch [1/5], Step [200/1000], Loss: 1.9451\n",
      "Epoch [1/5], Step [300/1000], Loss: 1.7944\n",
      "Epoch [1/5], Step [400/1000], Loss: 1.6553\n",
      "Epoch [1/5], Step [500/1000], Loss: 1.5258\n",
      "Epoch [1/5], Step [600/1000], Loss: 1.4051\n",
      "Epoch [1/5], Step [700/1000], Loss: 1.2932\n",
      "Epoch [1/5], Step [800/1000], Loss: 1.1902\n",
      "Epoch [1/5], Step [900/1000], Loss: 1.0958\n",
      "Epoch [1/5], Step [1000/1000], Loss: 1.0100\n",
      "Accuracy of the network on the 100 test images: 67.0 %\n",
      "Epoch [2/5], Step [100/1000], Loss: 0.9321\n",
      "Epoch [2/5], Step [200/1000], Loss: 0.8617\n",
      "Epoch [2/5], Step [300/1000], Loss: 0.7982\n",
      "Epoch [2/5], Step [400/1000], Loss: 0.7410\n",
      "Epoch [2/5], Step [500/1000], Loss: 0.6893\n",
      "Epoch [2/5], Step [600/1000], Loss: 0.6426\n",
      "Epoch [2/5], Step [700/1000], Loss: 0.6004\n",
      "Epoch [2/5], Step [800/1000], Loss: 0.5621\n",
      "Epoch [2/5], Step [900/1000], Loss: 0.5272\n",
      "Epoch [2/5], Step [1000/1000], Loss: 0.4955\n",
      "Accuracy of the network on the 100 test images: 72.0 %\n",
      "Epoch [3/5], Step [100/1000], Loss: 0.4665\n",
      "Epoch [3/5], Step [200/1000], Loss: 0.4399\n",
      "Epoch [3/5], Step [300/1000], Loss: 0.4155\n",
      "Epoch [3/5], Step [400/1000], Loss: 0.3931\n",
      "Epoch [3/5], Step [500/1000], Loss: 0.3724\n",
      "Epoch [3/5], Step [600/1000], Loss: 0.3533\n",
      "Epoch [3/5], Step [700/1000], Loss: 0.3356\n",
      "Epoch [3/5], Step [800/1000], Loss: 0.3192\n",
      "Epoch [3/5], Step [900/1000], Loss: 0.3040\n",
      "Epoch [3/5], Step [1000/1000], Loss: 0.2899\n",
      "Accuracy of the network on the 100 test images: 77.0 %\n",
      "Epoch [4/5], Step [100/1000], Loss: 0.2767\n",
      "Epoch [4/5], Step [200/1000], Loss: 0.2645\n",
      "Epoch [4/5], Step [300/1000], Loss: 0.2530\n",
      "Epoch [4/5], Step [400/1000], Loss: 0.2423\n",
      "Epoch [4/5], Step [500/1000], Loss: 0.2322\n",
      "Epoch [4/5], Step [600/1000], Loss: 0.2228\n",
      "Epoch [4/5], Step [700/1000], Loss: 0.2140\n",
      "Epoch [4/5], Step [800/1000], Loss: 0.2056\n",
      "Epoch [4/5], Step [900/1000], Loss: 0.1978\n",
      "Epoch [4/5], Step [1000/1000], Loss: 0.1905\n",
      "Accuracy of the network on the 100 test images: 75.0 %\n",
      "Epoch [5/5], Step [100/1000], Loss: 0.1835\n",
      "Epoch [5/5], Step [200/1000], Loss: 0.1770\n",
      "Epoch [5/5], Step [300/1000], Loss: 0.1708\n",
      "Epoch [5/5], Step [400/1000], Loss: 0.1649\n",
      "Epoch [5/5], Step [500/1000], Loss: 0.1594\n",
      "Epoch [5/5], Step [600/1000], Loss: 0.1541\n",
      "Epoch [5/5], Step [700/1000], Loss: 0.1491\n",
      "Epoch [5/5], Step [800/1000], Loss: 0.1444\n",
      "Epoch [5/5], Step [900/1000], Loss: 0.1399\n",
      "Epoch [5/5], Step [1000/1000], Loss: 0.1356\n",
      "Accuracy of the network on the 100 test images: 78.0 %\n"
     ]
    }
   ],
   "source": [
    "# Code inspired by:\n",
    "# https://github.com/yunjey/pytorch-tutorial/blob/master/tutorials/01-basics/feedforward_neural_network/main.py#L38\n",
    "# Train the model\n",
    "test_accuracy = []\n",
    "for epoch in range(num_epochs):\n",
    "    for i in range(training_steps):\n",
    "        inputs = images_rgb.reshape(-1, 28*28*3)\n",
    "        targets = labels\n",
    "        \n",
    "        # Forward pass\n",
    "        outputs = model(inputs)\n",
    "        loss = criterion(outputs, targets)\n",
    "        \n",
    "        # Backward and optimize\n",
    "        optimizer.zero_grad()\n",
    "        loss.backward()\n",
    "        optimizer.step()\n",
    "        \n",
    "        if (i+1) % 100 == 0:\n",
    "            print ('Epoch [{}/{}], Step [{}/{}], Loss: {:.4f}' \n",
    "                   .format(epoch+1, num_epochs, i+1, training_steps, loss.item()))\n",
    "    \n",
    "    # Evaluate model so far:\n",
    "    with torch.no_grad():\n",
    "        correct = 0\n",
    "        total = 0\n",
    "        inputs = test_images_rgb.reshape(-1, 28*28*3)\n",
    "        targets = test_labels\n",
    "        outputs = model(inputs)\n",
    "        _, predicted = torch.max(outputs.data, 1)\n",
    "        total += targets.size(0)\n",
    "        correct += (predicted == targets).sum().item()\n",
    "        print('Accuracy of the network on the {} test images: {} %'.format(total, 100 * correct / total))\n",
    "        test_accuracy.append(correct/total)"
   ]
  },
  {
   "cell_type": "code",
   "execution_count": 14,
   "metadata": {},
   "outputs": [
    {
     "data": {
      "text/plain": [
       "[<matplotlib.lines.Line2D at 0x7ff2791bc0d0>]"
      ]
     },
     "execution_count": 14,
     "metadata": {},
     "output_type": "execute_result"
    },
    {
     "data": {
      "image/png": "[encoded data removed]",
      "text/plain": [
       "<Figure size 640x480 with 1 Axes>"
      ]
     },
     "metadata": {},
     "output_type": "display_data"
    }
   ],
   "source": [
    "plt.xlabel('Epoch (training time)') \n",
    "plt.ylabel('Test Set Accuracy')\n",
    "plt.plot(test_accuracy)"
   ]
  },
  {
   "cell_type": "markdown",
   "metadata": {
    "id": "JntSN1SWEj2V"
   },
   "source": [
    "# #4 -   We want to see how robust our learned model is to pertubations.\n",
    "Write code that transforms the background of MNIST digits from black to a randomly sampled RGB color. The random background color should be sampled each time you draw a digit. Include in your writeup your rendering of one of these modified MNIST digits.\n",
    "\n",
    "After training a model on the standard MNIST digits, test this model using the colored MNIST digits. Show the learning curve for this model, which has the test accuracy of the colored digits on the y axis, and the total training time on the x-axis.\n",
    "\n",
    "NOTE: You should never train your model on the colored digits. They are only for testing. This is called out of distribution robustness."
   ]
  },
  {
   "cell_type": "code",
   "execution_count": 15,
   "metadata": {},
   "outputs": [],
   "source": [
    "import copy"
   ]
  },
  {
   "cell_type": "code",
   "execution_count": 16,
   "metadata": {},
   "outputs": [],
   "source": [
    "test_images_rgb_noise = copy.deepcopy(test_images_rgb)\n",
    "for i in range(len(test_images_rgb)):\n",
    "    bg_color = torch.rand(3)\n",
    "    for j in range(len(test_images_rgb[i][0])):  \n",
    "        for k in range(len(test_images_rgb[i][0][j])):\n",
    "            pixel = test_images_rgb[i][0][j][k]\n",
    "            if sum(pixel)==0:\n",
    "                test_images_rgb_noise[i][0][j][k] = bg_color"
   ]
  },
  {
   "cell_type": "code",
   "execution_count": 17,
   "metadata": {},
   "outputs": [
    {
     "data": {
      "text/plain": [
       "<matplotlib.image.AxesImage at 0x7ff2898a2850>"
      ]
     },
     "execution_count": 17,
     "metadata": {},
     "output_type": "execute_result"
    },
    {
     "data": {
      "image/png": "[encoded data removed]",
      "text/plain": [
       "<Figure size 640x480 with 1 Axes>"
      ]
     },
     "metadata": {},
     "output_type": "display_data"
    }
   ],
   "source": [
    "plt.title('Label is {label}'.format(label=test_labels[0]))\n",
    "plt.imshow(test_images_rgb_noise[0].reshape((28, 28, 3)))"
   ]
  },
  {
   "cell_type": "code",
   "execution_count": 18,
   "metadata": {},
   "outputs": [],
   "source": [
    "model = NeuralNet(input_size, hidden_size, num_classes).to(device)"
   ]
  },
  {
   "cell_type": "code",
   "execution_count": 19,
   "metadata": {},
   "outputs": [],
   "source": [
    "criterion = nn.CrossEntropyLoss()\n",
    "optimizer = torch.optim.SGD(model.parameters(), lr=learning_rate)"
   ]
  },
  {
   "cell_type": "code",
   "execution_count": 20,
   "metadata": {},
   "outputs": [
    {
     "name": "stdout",
     "output_type": "stream",
     "text": [
      "Epoch [1/5], Step [100/1000], Loss: 2.1046\n",
      "Epoch [1/5], Step [200/1000], Loss: 1.9400\n",
      "Epoch [1/5], Step [300/1000], Loss: 1.7901\n",
      "Epoch [1/5], Step [400/1000], Loss: 1.6507\n",
      "Epoch [1/5], Step [500/1000], Loss: 1.5203\n",
      "Epoch [1/5], Step [600/1000], Loss: 1.3988\n",
      "Epoch [1/5], Step [700/1000], Loss: 1.2861\n",
      "Epoch [1/5], Step [800/1000], Loss: 1.1824\n",
      "Epoch [1/5], Step [900/1000], Loss: 1.0875\n",
      "Epoch [1/5], Step [1000/1000], Loss: 1.0013\n",
      "Accuracy of the network on the 100 test images: 22.0 %\n",
      "Epoch [2/5], Step [100/1000], Loss: 0.9232\n",
      "Epoch [2/5], Step [200/1000], Loss: 0.8527\n",
      "Epoch [2/5], Step [300/1000], Loss: 0.7892\n",
      "Epoch [2/5], Step [400/1000], Loss: 0.7319\n",
      "Epoch [2/5], Step [500/1000], Loss: 0.6804\n",
      "Epoch [2/5], Step [600/1000], Loss: 0.6338\n",
      "Epoch [2/5], Step [700/1000], Loss: 0.5917\n",
      "Epoch [2/5], Step [800/1000], Loss: 0.5536\n",
      "Epoch [2/5], Step [900/1000], Loss: 0.5190\n",
      "Epoch [2/5], Step [1000/1000], Loss: 0.4874\n",
      "Accuracy of the network on the 100 test images: 27.0 %\n",
      "Epoch [3/5], Step [100/1000], Loss: 0.4587\n",
      "Epoch [3/5], Step [200/1000], Loss: 0.4323\n",
      "Epoch [3/5], Step [300/1000], Loss: 0.4082\n",
      "Epoch [3/5], Step [400/1000], Loss: 0.3860\n",
      "Epoch [3/5], Step [500/1000], Loss: 0.3656\n",
      "Epoch [3/5], Step [600/1000], Loss: 0.3468\n",
      "Epoch [3/5], Step [700/1000], Loss: 0.3293\n",
      "Epoch [3/5], Step [800/1000], Loss: 0.3132\n",
      "Epoch [3/5], Step [900/1000], Loss: 0.2982\n",
      "Epoch [3/5], Step [1000/1000], Loss: 0.2843\n",
      "Accuracy of the network on the 100 test images: 31.0 %\n",
      "Epoch [4/5], Step [100/1000], Loss: 0.2714\n",
      "Epoch [4/5], Step [200/1000], Loss: 0.2593\n",
      "Epoch [4/5], Step [300/1000], Loss: 0.2481\n",
      "Epoch [4/5], Step [400/1000], Loss: 0.2376\n",
      "Epoch [4/5], Step [500/1000], Loss: 0.2277\n",
      "Epoch [4/5], Step [600/1000], Loss: 0.2185\n",
      "Epoch [4/5], Step [700/1000], Loss: 0.2098\n",
      "Epoch [4/5], Step [800/1000], Loss: 0.2017\n",
      "Epoch [4/5], Step [900/1000], Loss: 0.1940\n",
      "Epoch [4/5], Step [1000/1000], Loss: 0.1868\n",
      "Accuracy of the network on the 100 test images: 29.0 %\n",
      "Epoch [5/5], Step [100/1000], Loss: 0.1800\n",
      "Epoch [5/5], Step [200/1000], Loss: 0.1736\n",
      "Epoch [5/5], Step [300/1000], Loss: 0.1676\n",
      "Epoch [5/5], Step [400/1000], Loss: 0.1618\n",
      "Epoch [5/5], Step [500/1000], Loss: 0.1564\n",
      "Epoch [5/5], Step [600/1000], Loss: 0.1513\n",
      "Epoch [5/5], Step [700/1000], Loss: 0.1464\n",
      "Epoch [5/5], Step [800/1000], Loss: 0.1418\n",
      "Epoch [5/5], Step [900/1000], Loss: 0.1374\n",
      "Epoch [5/5], Step [1000/1000], Loss: 0.1332\n",
      "Accuracy of the network on the 100 test images: 29.0 %\n"
     ]
    }
   ],
   "source": [
    "# Code inspired by:\n",
    "# https://github.com/yunjey/pytorch-tutorial/blob/master/tutorials/01-basics/feedforward_neural_network/main.py#L38\n",
    "# Train the model\n",
    "test_accuracy = []\n",
    "for epoch in range(num_epochs):\n",
    "    for i in range(training_steps):\n",
    "        inputs = images_rgb.reshape(-1, 28*28*3)\n",
    "        targets = labels\n",
    "        \n",
    "        # Forward pass\n",
    "        outputs = model(inputs)\n",
    "        loss = criterion(outputs, targets)\n",
    "        \n",
    "        # Backward and optimize\n",
    "        optimizer.zero_grad()\n",
    "        loss.backward()\n",
    "        optimizer.step()\n",
    "        \n",
    "        if (i+1) % 100 == 0:\n",
    "            print ('Epoch [{}/{}], Step [{}/{}], Loss: {:.4f}' \n",
    "                   .format(epoch+1, num_epochs, i+1, training_steps, loss.item()))\n",
    "    \n",
    "    # Evaluate model so far:\n",
    "    with torch.no_grad():\n",
    "        correct = 0\n",
    "        total = 0\n",
    "        inputs = test_images_rgb_noise.reshape(-1, 28*28*3)\n",
    "        targets = test_labels\n",
    "        outputs = model(inputs)\n",
    "        _, predicted = torch.max(outputs.data, 1)\n",
    "        total += targets.size(0)\n",
    "        correct += (predicted == targets).sum().item()\n",
    "        print('Accuracy of the network on the {} test images: {} %'.format(total, 100 * correct / total))\n",
    "        test_accuracy.append(correct/total)"
   ]
  },
  {
   "cell_type": "code",
   "execution_count": 21,
   "metadata": {},
   "outputs": [
    {
     "data": {
      "text/plain": [
       "[<matplotlib.lines.Line2D at 0x7ff2b8d3ff50>]"
      ]
     },
     "execution_count": 21,
     "metadata": {},
     "output_type": "execute_result"
    },
    {
     "data": {
      "image/png": "[encoded data removed]",
      "text/plain": [
       "<Figure size 640x480 with 1 Axes>"
      ]
     },
     "metadata": {},
     "output_type": "display_data"
    }
   ],
   "source": [
    "plt.xlabel('Epoch (training time)') \n",
    "plt.ylabel('Test Set Accuracy')\n",
    "plt.plot(test_accuracy)"
   ]
  },
  {
   "cell_type": "markdown",
   "metadata": {},
   "source": [
    "# #5 Increase the pertubations.\n",
    "\n",
    "In addition to changing the background of the MNIST digit, also change the color of the digit itself. Again, randomly sample this digit color from RGB colors. Compare the convergence rate and final testing accuracy at convergence on vanilla MNIST, MNIST with modified backgrounds (from 4) and MNIST with modified digits and backgrounds (from 5)"
   ]
  },
  {
   "cell_type": "code",
   "execution_count": 22,
   "metadata": {},
   "outputs": [],
   "source": [
    "test_images_rgb_noisier = copy.deepcopy(test_images_rgb)\n",
    "for i in range(len(test_images_rgb)):\n",
    "    bg_color = torch.rand(3)\n",
    "    digit_color = torch.rand(3)\n",
    "    for j in range(len(test_images_rgb[i][0])):  \n",
    "        for k in range(len(test_images_rgb[i][0][j])):\n",
    "            pixel = test_images_rgb[i][0][j][k]\n",
    "            if sum(pixel)==0:\n",
    "                test_images_rgb_noisier[i][0][j][k] = bg_color\n",
    "            else:\n",
    "                test_images_rgb_noisier[i][0][j][k] = digit_color"
   ]
  },
  {
   "cell_type": "code",
   "execution_count": 23,
   "metadata": {},
   "outputs": [
    {
     "data": {
      "text/plain": [
       "<matplotlib.image.AxesImage at 0x7ff29a943c10>"
      ]
     },
     "execution_count": 23,
     "metadata": {},
     "output_type": "execute_result"
    },
    {
     "data": {
      "image/png": "[encoded data removed]",
      "text/plain": [
       "<Figure size 640x480 with 1 Axes>"
      ]
     },
     "metadata": {},
     "output_type": "display_data"
    }
   ],
   "source": [
    "plt.title('Label is {label}'.format(label=test_labels[0]))\n",
    "plt.imshow(test_images_rgb_noisier[0].reshape((28, 28, 3)))"
   ]
  },
  {
   "cell_type": "code",
   "execution_count": 24,
   "metadata": {},
   "outputs": [],
   "source": [
    "model = NeuralNet(input_size, hidden_size, num_classes).to(device)"
   ]
  },
  {
   "cell_type": "code",
   "execution_count": 25,
   "metadata": {},
   "outputs": [],
   "source": [
    "criterion = nn.CrossEntropyLoss()\n",
    "optimizer = torch.optim.SGD(model.parameters(), lr=learning_rate)"
   ]
  },
  {
   "cell_type": "code",
   "execution_count": 26,
   "metadata": {},
   "outputs": [
    {
     "name": "stdout",
     "output_type": "stream",
     "text": [
      "Epoch [1/5], Step [100/1000], Loss: 2.1362\n",
      "Epoch [1/5], Step [200/1000], Loss: 1.9681\n",
      "Epoch [1/5], Step [300/1000], Loss: 1.8161\n",
      "Epoch [1/5], Step [400/1000], Loss: 1.6752\n",
      "Epoch [1/5], Step [500/1000], Loss: 1.5436\n",
      "Epoch [1/5], Step [600/1000], Loss: 1.4206\n",
      "Epoch [1/5], Step [700/1000], Loss: 1.3064\n",
      "Epoch [1/5], Step [800/1000], Loss: 1.2009\n",
      "Epoch [1/5], Step [900/1000], Loss: 1.1043\n",
      "Epoch [1/5], Step [1000/1000], Loss: 1.0163\n",
      "Accuracy of the network on the 100 test images: 15.0 %\n",
      "Epoch [2/5], Step [100/1000], Loss: 0.9366\n",
      "Epoch [2/5], Step [200/1000], Loss: 0.8647\n",
      "Epoch [2/5], Step [300/1000], Loss: 0.7998\n",
      "Epoch [2/5], Step [400/1000], Loss: 0.7415\n",
      "Epoch [2/5], Step [500/1000], Loss: 0.6889\n",
      "Epoch [2/5], Step [600/1000], Loss: 0.6415\n",
      "Epoch [2/5], Step [700/1000], Loss: 0.5987\n",
      "Epoch [2/5], Step [800/1000], Loss: 0.5599\n",
      "Epoch [2/5], Step [900/1000], Loss: 0.5247\n",
      "Epoch [2/5], Step [1000/1000], Loss: 0.4927\n",
      "Accuracy of the network on the 100 test images: 17.0 %\n",
      "Epoch [3/5], Step [100/1000], Loss: 0.4636\n",
      "Epoch [3/5], Step [200/1000], Loss: 0.4369\n",
      "Epoch [3/5], Step [300/1000], Loss: 0.4124\n",
      "Epoch [3/5], Step [400/1000], Loss: 0.3899\n",
      "Epoch [3/5], Step [500/1000], Loss: 0.3692\n",
      "Epoch [3/5], Step [600/1000], Loss: 0.3502\n",
      "Epoch [3/5], Step [700/1000], Loss: 0.3325\n",
      "Epoch [3/5], Step [800/1000], Loss: 0.3162\n",
      "Epoch [3/5], Step [900/1000], Loss: 0.3010\n",
      "Epoch [3/5], Step [1000/1000], Loss: 0.2870\n",
      "Accuracy of the network on the 100 test images: 19.0 %\n",
      "Epoch [4/5], Step [100/1000], Loss: 0.2739\n",
      "Epoch [4/5], Step [200/1000], Loss: 0.2617\n",
      "Epoch [4/5], Step [300/1000], Loss: 0.2503\n",
      "Epoch [4/5], Step [400/1000], Loss: 0.2396\n",
      "Epoch [4/5], Step [500/1000], Loss: 0.2297\n",
      "Epoch [4/5], Step [600/1000], Loss: 0.2203\n",
      "Epoch [4/5], Step [700/1000], Loss: 0.2116\n",
      "Epoch [4/5], Step [800/1000], Loss: 0.2033\n",
      "Epoch [4/5], Step [900/1000], Loss: 0.1956\n",
      "Epoch [4/5], Step [1000/1000], Loss: 0.1883\n",
      "Accuracy of the network on the 100 test images: 19.0 %\n",
      "Epoch [5/5], Step [100/1000], Loss: 0.1814\n",
      "Epoch [5/5], Step [200/1000], Loss: 0.1749\n",
      "Epoch [5/5], Step [300/1000], Loss: 0.1688\n",
      "Epoch [5/5], Step [400/1000], Loss: 0.1630\n",
      "Epoch [5/5], Step [500/1000], Loss: 0.1575\n",
      "Epoch [5/5], Step [600/1000], Loss: 0.1523\n",
      "Epoch [5/5], Step [700/1000], Loss: 0.1474\n",
      "Epoch [5/5], Step [800/1000], Loss: 0.1427\n",
      "Epoch [5/5], Step [900/1000], Loss: 0.1383\n",
      "Epoch [5/5], Step [1000/1000], Loss: 0.1341\n",
      "Accuracy of the network on the 100 test images: 20.0 %\n"
     ]
    }
   ],
   "source": [
    "# Code inspired by:\n",
    "# https://github.com/yunjey/pytorch-tutorial/blob/master/tutorials/01-basics/feedforward_neural_network/main.py#L38\n",
    "# Train the model\n",
    "test_accuracy = []\n",
    "for epoch in range(num_epochs):\n",
    "    for i in range(training_steps):\n",
    "        inputs = images_rgb.reshape(-1, 28*28*3)\n",
    "        targets = labels\n",
    "        \n",
    "        # Forward pass\n",
    "        outputs = model(inputs)\n",
    "        loss = criterion(outputs, targets)\n",
    "        \n",
    "        # Backward and optimize\n",
    "        optimizer.zero_grad()\n",
    "        loss.backward()\n",
    "        optimizer.step()\n",
    "        \n",
    "        if (i+1) % 100 == 0:\n",
    "            print ('Epoch [{}/{}], Step [{}/{}], Loss: {:.4f}' \n",
    "                   .format(epoch+1, num_epochs, i+1, training_steps, loss.item()))\n",
    "    \n",
    "    # Evaluate model so far:\n",
    "    with torch.no_grad():\n",
    "        correct = 0\n",
    "        total = 0\n",
    "        inputs = test_images_rgb_noisier.reshape(-1, 28*28*3)\n",
    "        targets = test_labels\n",
    "        outputs = model(inputs)\n",
    "        _, predicted = torch.max(outputs.data, 1)\n",
    "        total += targets.size(0)\n",
    "        correct += (predicted == targets).sum().item()\n",
    "        print('Accuracy of the network on the {} test images: {} %'.format(total, 100 * correct / total))\n",
    "        test_accuracy.append(correct/total)"
   ]
  },
  {
   "cell_type": "code",
   "execution_count": 27,
   "metadata": {},
   "outputs": [
    {
     "data": {
      "text/plain": [
       "[<matplotlib.lines.Line2D at 0x7ff279457350>]"
      ]
     },
     "execution_count": 27,
     "metadata": {},
     "output_type": "execute_result"
    },
    {
     "data": {
      "image/png": "[encoded data removed]",
      "text/plain": [
       "<Figure size 640x480 with 1 Axes>"
      ]
     },
     "metadata": {},
     "output_type": "display_data"
    }
   ],
   "source": [
    "plt.xlabel('Epoch (training time)') \n",
    "plt.ylabel('Test Set Accuracy')\n",
    "plt.plot(test_accuracy)"
   ]
  },
  {
   "cell_type": "markdown",
   "metadata": {
    "id": "m0d6Gy4pEo1l"
   },
   "source": [
    "# #6 - Convolutional networks\n",
    "\n",
    "Repeat step 5, only this time use a convolutional neural network with 2 layers rather than a fully connected network. Do the results differ?"
   ]
  },
  {
   "cell_type": "code",
   "execution_count": 137,
   "metadata": {},
   "outputs": [],
   "source": [
    "# Convolutional neural network with 2 hidden layers:\n",
    "# class NeuralNet2(nn.Module):\n",
    "#     def __init__(self, input_size, hidden_size, num_classes):\n",
    "#         super(NeuralNet2, self).__init__()\n",
    "#         self.fc1 = nn.Linear(input_size, hidden_size)\n",
    "#         self.tanh = nn.Tanh()\n",
    "#         self.fc2 = nn.Linear(hidden_size, num_classes)\n",
    "\n",
    "#     def forward(self, x):\n",
    "#         out = self.fc1(x)\n",
    "#         out = self.tanh(out)\n",
    "#         out = self.tanh(out)\n",
    "#         out = self.fc2(out)\n",
    "#         return out\n",
    "\n",
    "class NeuralNet2(nn.Module):\n",
    "    def __init__(self, input_size, hidden_size, num_classes, kernel=7):\n",
    "        super(NeuralNet2, self).__init__()\n",
    "        self.fc1 = nn.Conv2d(3, 10, kernel)\n",
    "        self.fc2 = nn.Conv2d(10, 15, kernel)\n",
    "        self.tanh = nn.Tanh()\n",
    "        self.fc3 = nn.Linear(384000, num_classes)\n",
    "\n",
    "    def forward(self, x):\n",
    "        print(x.shape)\n",
    "        out = self.fc1(x)\n",
    "        out = self.tanh(out)\n",
    "        print(out.shape)\n",
    "        out = self.fc2(out)\n",
    "        out = self.tanh(out)\n",
    "        print(out.shape)\n",
    "        out = self.tanh(out)\n",
    "        print(out.shape)\n",
    "        out = out.flatten()\n",
    "        out = self.fc3(out)\n",
    "        return out"
   ]
  },
  {
   "cell_type": "code",
   "execution_count": 138,
   "metadata": {},
   "outputs": [],
   "source": [
    "model = NeuralNet2(input_size, hidden_size, num_classes).to(device)"
   ]
  },
  {
   "cell_type": "code",
   "execution_count": 139,
   "metadata": {},
   "outputs": [],
   "source": [
    "criterion = nn.CrossEntropyLoss()\n",
    "optimizer = torch.optim.SGD(model.parameters(), lr=learning_rate)"
   ]
  },
  {
   "cell_type": "code",
   "execution_count": 140,
   "metadata": {},
   "outputs": [
    {
     "data": {
      "text/plain": [
       "torch.Size([100, 1, 28, 28, 3])"
      ]
     },
     "execution_count": 140,
     "metadata": {},
     "output_type": "execute_result"
    }
   ],
   "source": [
    "images_rgb.shape"
   ]
  },
  {
   "cell_type": "code",
   "execution_count": 141,
   "metadata": {},
   "outputs": [
    {
     "name": "stdout",
     "output_type": "stream",
     "text": [
      "torch.Size([100, 3, 28, 28])\n",
      "torch.Size([100, 10, 22, 22])\n",
      "torch.Size([100, 15, 16, 16])\n",
      "torch.Size([100, 15, 16, 16])\n"
     ]
    },
    {
     "ename": "RuntimeError",
     "evalue": "size mismatch (got input: [10], target: [100])",
     "output_type": "error",
     "traceback": [
      "\u001b[0;31m---------------------------------------------------------------------------\u001b[0m",
      "\u001b[0;31mRuntimeError\u001b[0m                              Traceback (most recent call last)",
      "\u001b[0;32m/var/folders/_4/m5twwlnn26b0q41jgwd5jnz80000gq/T/ipykernel_9790/114431577.py\u001b[0m in \u001b[0;36m<module>\u001b[0;34m\u001b[0m\n\u001b[1;32m     12\u001b[0m         \u001b[0;31m# Forward pass\u001b[0m\u001b[0;34m\u001b[0m\u001b[0;34m\u001b[0m\u001b[0;34m\u001b[0m\u001b[0m\n\u001b[1;32m     13\u001b[0m         \u001b[0moutputs\u001b[0m \u001b[0;34m=\u001b[0m \u001b[0mmodel\u001b[0m\u001b[0;34m(\u001b[0m\u001b[0minputs\u001b[0m\u001b[0;34m)\u001b[0m\u001b[0;34m\u001b[0m\u001b[0;34m\u001b[0m\u001b[0m\n\u001b[0;32m---> 14\u001b[0;31m         \u001b[0mloss\u001b[0m \u001b[0;34m=\u001b[0m \u001b[0mcriterion\u001b[0m\u001b[0;34m(\u001b[0m\u001b[0moutputs\u001b[0m\u001b[0;34m,\u001b[0m \u001b[0mtargets\u001b[0m\u001b[0;34m)\u001b[0m\u001b[0;34m\u001b[0m\u001b[0;34m\u001b[0m\u001b[0m\n\u001b[0m\u001b[1;32m     15\u001b[0m \u001b[0;34m\u001b[0m\u001b[0m\n\u001b[1;32m     16\u001b[0m         \u001b[0;31m# Backward and optimize\u001b[0m\u001b[0;34m\u001b[0m\u001b[0;34m\u001b[0m\u001b[0;34m\u001b[0m\u001b[0m\n",
      "\u001b[0;32m~/anaconda3/envs/myenv/lib/python3.7/site-packages/torch/nn/modules/module.py\u001b[0m in \u001b[0;36m_call_impl\u001b[0;34m(self, *input, **kwargs)\u001b[0m\n\u001b[1;32m   1188\u001b[0m         if not (self._backward_hooks or self._forward_hooks or self._forward_pre_hooks or _global_backward_hooks\n\u001b[1;32m   1189\u001b[0m                 or _global_forward_hooks or _global_forward_pre_hooks):\n\u001b[0;32m-> 1190\u001b[0;31m             \u001b[0;32mreturn\u001b[0m \u001b[0mforward_call\u001b[0m\u001b[0;34m(\u001b[0m\u001b[0;34m*\u001b[0m\u001b[0minput\u001b[0m\u001b[0;34m,\u001b[0m \u001b[0;34m**\u001b[0m\u001b[0mkwargs\u001b[0m\u001b[0;34m)\u001b[0m\u001b[0;34m\u001b[0m\u001b[0;34m\u001b[0m\u001b[0m\n\u001b[0m\u001b[1;32m   1191\u001b[0m         \u001b[0;31m# Do not call functions when jit is used\u001b[0m\u001b[0;34m\u001b[0m\u001b[0;34m\u001b[0m\u001b[0;34m\u001b[0m\u001b[0m\n\u001b[1;32m   1192\u001b[0m         \u001b[0mfull_backward_hooks\u001b[0m\u001b[0;34m,\u001b[0m \u001b[0mnon_full_backward_hooks\u001b[0m \u001b[0;34m=\u001b[0m \u001b[0;34m[\u001b[0m\u001b[0;34m]\u001b[0m\u001b[0;34m,\u001b[0m \u001b[0;34m[\u001b[0m\u001b[0;34m]\u001b[0m\u001b[0;34m\u001b[0m\u001b[0;34m\u001b[0m\u001b[0m\n",
      "\u001b[0;32m~/anaconda3/envs/myenv/lib/python3.7/site-packages/torch/nn/modules/loss.py\u001b[0m in \u001b[0;36mforward\u001b[0;34m(self, input, target)\u001b[0m\n\u001b[1;32m   1174\u001b[0m         return F.cross_entropy(input, target, weight=self.weight,\n\u001b[1;32m   1175\u001b[0m                                \u001b[0mignore_index\u001b[0m\u001b[0;34m=\u001b[0m\u001b[0mself\u001b[0m\u001b[0;34m.\u001b[0m\u001b[0mignore_index\u001b[0m\u001b[0;34m,\u001b[0m \u001b[0mreduction\u001b[0m\u001b[0;34m=\u001b[0m\u001b[0mself\u001b[0m\u001b[0;34m.\u001b[0m\u001b[0mreduction\u001b[0m\u001b[0;34m,\u001b[0m\u001b[0;34m\u001b[0m\u001b[0;34m\u001b[0m\u001b[0m\n\u001b[0;32m-> 1176\u001b[0;31m                                label_smoothing=self.label_smoothing)\n\u001b[0m\u001b[1;32m   1177\u001b[0m \u001b[0;34m\u001b[0m\u001b[0m\n\u001b[1;32m   1178\u001b[0m \u001b[0;34m\u001b[0m\u001b[0m\n",
      "\u001b[0;32m~/anaconda3/envs/myenv/lib/python3.7/site-packages/torch/nn/functional.py\u001b[0m in \u001b[0;36mcross_entropy\u001b[0;34m(input, target, weight, size_average, ignore_index, reduce, reduction, label_smoothing)\u001b[0m\n\u001b[1;32m   3024\u001b[0m     \u001b[0;32mif\u001b[0m \u001b[0msize_average\u001b[0m \u001b[0;32mis\u001b[0m \u001b[0;32mnot\u001b[0m \u001b[0;32mNone\u001b[0m \u001b[0;32mor\u001b[0m \u001b[0mreduce\u001b[0m \u001b[0;32mis\u001b[0m \u001b[0;32mnot\u001b[0m \u001b[0;32mNone\u001b[0m\u001b[0;34m:\u001b[0m\u001b[0;34m\u001b[0m\u001b[0;34m\u001b[0m\u001b[0m\n\u001b[1;32m   3025\u001b[0m         \u001b[0mreduction\u001b[0m \u001b[0;34m=\u001b[0m \u001b[0m_Reduction\u001b[0m\u001b[0;34m.\u001b[0m\u001b[0mlegacy_get_string\u001b[0m\u001b[0;34m(\u001b[0m\u001b[0msize_average\u001b[0m\u001b[0;34m,\u001b[0m \u001b[0mreduce\u001b[0m\u001b[0;34m)\u001b[0m\u001b[0;34m\u001b[0m\u001b[0;34m\u001b[0m\u001b[0m\n\u001b[0;32m-> 3026\u001b[0;31m     \u001b[0;32mreturn\u001b[0m \u001b[0mtorch\u001b[0m\u001b[0;34m.\u001b[0m\u001b[0m_C\u001b[0m\u001b[0;34m.\u001b[0m\u001b[0m_nn\u001b[0m\u001b[0;34m.\u001b[0m\u001b[0mcross_entropy_loss\u001b[0m\u001b[0;34m(\u001b[0m\u001b[0minput\u001b[0m\u001b[0;34m,\u001b[0m \u001b[0mtarget\u001b[0m\u001b[0;34m,\u001b[0m \u001b[0mweight\u001b[0m\u001b[0;34m,\u001b[0m \u001b[0m_Reduction\u001b[0m\u001b[0;34m.\u001b[0m\u001b[0mget_enum\u001b[0m\u001b[0;34m(\u001b[0m\u001b[0mreduction\u001b[0m\u001b[0;34m)\u001b[0m\u001b[0;34m,\u001b[0m \u001b[0mignore_index\u001b[0m\u001b[0;34m,\u001b[0m \u001b[0mlabel_smoothing\u001b[0m\u001b[0;34m)\u001b[0m\u001b[0;34m\u001b[0m\u001b[0;34m\u001b[0m\u001b[0m\n\u001b[0m\u001b[1;32m   3027\u001b[0m \u001b[0;34m\u001b[0m\u001b[0m\n\u001b[1;32m   3028\u001b[0m \u001b[0;34m\u001b[0m\u001b[0m\n",
      "\u001b[0;31mRuntimeError\u001b[0m: size mismatch (got input: [10], target: [100])"
     ]
    }
   ],
   "source": [
    "# Code inspired by:\n",
    "# https://github.com/yunjey/pytorch-tutorial/blob/master/tutorials/01-basics/feedforward_neural_network/main.py#L38\n",
    "# Train the model\n",
    "test_accuracy = []\n",
    "hidden_size = 10\n",
    "for epoch in range(num_epochs):\n",
    "    for i in range(training_steps):\n",
    "        # inputs = images_rgb.reshape(-1, 28*28*3)\n",
    "        inputs = images_rgb.reshape(100, 3, 28, 28)\n",
    "        targets = labels\n",
    "        \n",
    "        # Forward pass\n",
    "        outputs = model(inputs)\n",
    "        loss = criterion(outputs, targets)\n",
    "        \n",
    "        # Backward and optimize\n",
    "        optimizer.zero_grad()\n",
    "        loss.backward()\n",
    "        optimizer.step()\n",
    "        \n",
    "        if (i+1) % 100 == 0:\n",
    "            print ('Epoch [{}/{}], Step [{}/{}], Loss: {:.4f}' \n",
    "                   .format(epoch+1, num_epochs, i+1, training_steps, loss.item()))\n",
    "    \n",
    "    # Evaluate model so far:\n",
    "    with torch.no_grad():\n",
    "        correct = 0\n",
    "        total = 0\n",
    "        inputs = test_images_rgb_noisier.reshape(-1, 28*28*3)\n",
    "        targets = test_labels\n",
    "        outputs = model(inputs)\n",
    "        _, predicted = torch.max(outputs.data, 1)\n",
    "        total += targets.size(0)\n",
    "        correct += (predicted == targets).sum().item()\n",
    "        print('Accuracy of the network on the {} test images: {} %'.format(total, 100 * correct / total))\n",
    "        test_accuracy.append(correct/total)"
   ]
  },
  {
   "cell_type": "code",
   "execution_count": 142,
   "metadata": {},
   "outputs": [
    {
     "data": {
      "text/plain": [
       "[<matplotlib.lines.Line2D at 0x7ff268049810>]"
      ]
     },
     "execution_count": 142,
     "metadata": {},
     "output_type": "execute_result"
    },
    {
     "data": {
      "image/png": "[encoded data removed]",
      "text/plain": [
       "<Figure size 640x480 with 1 Axes>"
      ]
     },
     "metadata": {},
     "output_type": "display_data"
    }
   ],
   "source": [
    "plt.xlabel('Epoch (training time)') \n",
    "plt.ylabel('Test Set Accuracy')\n",
    "plt.plot(test_accuracy)"
   ]
  },
  {
   "cell_type": "markdown",
   "metadata": {},
   "source": [
    "Questions 4-6 deal with something called data augmentation, which plays a key role in improving the robustness of several RL algorithms including Q-Learning. We will cover this much later in class."
   ]
  }
 ],
 "metadata": {
  "colab": {
   "provenance": []
  },
  "kernelspec": {
   "display_name": "Python 3.7.13 ('myenv')",
   "language": "python",
   "name": "python3"
  },
  "language_info": {
   "codemirror_mode": {
    "name": "ipython",
    "version": 3
   },
   "file_extension": ".py",
   "mimetype": "text/x-python",
   "name": "python",
   "nbconvert_exporter": "python",
   "pygments_lexer": "ipython3",
   "version": "3.7.13"
  },
  "vscode": {
   "interpreter": {
    "hash": "f2cd633bf9703d9b8d2b7bb6e04b82983774c32d5f891ed1890ee26b779f7466"
   }
  }
 },
 "nbformat": 4,
 "nbformat_minor": 1
}
