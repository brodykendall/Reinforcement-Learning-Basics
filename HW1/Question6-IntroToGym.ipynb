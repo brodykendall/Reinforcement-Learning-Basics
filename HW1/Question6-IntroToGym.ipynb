{
 "cells": [
  {
   "cell_type": "markdown",
   "metadata": {},
   "source": [
    "# Intro to GYM and Cartpole\n",
    "\n",
    "This question serves as an introduction to the OpenAI Gym API.\n",
    "\n",
    "To begin with, please install gym with the command: pip install gym\n",
    "\n",
    "Gym is a set of classical RL environments and problems that were once used for RL reserach.\n",
    "\n",
    "Today, these environemnts are mostly unused in research. However, the general API established in the library continues to live on.\n",
    "\n",
    "In the next several problems, we will use Gym on Cartpole, a classical RL environment.\n"
   ]
  },
  {
   "cell_type": "code",
   "execution_count": 1,
   "metadata": {},
   "outputs": [
    {
     "name": "stdout",
     "output_type": "stream",
     "text": [
      "[-0.03250501  0.0084485  -0.02947107 -0.01222387]\n"
     ]
    }
   ],
   "source": [
    "import numpy as np\n",
    "import gym\n",
    "\n",
    "# To make output consistent\n",
    "np.random.seed(42)\n",
    "\n",
    "# This makes the cartpole env\n",
    "env = gym.make('CartPole-v1')\n",
    "\n",
    "env.action_space.seed(42)\n",
    "env.observation_space.seed(42)\n",
    "\n",
    "obs, info = env.reset()\n",
    "print(obs)"
   ]
  },
  {
   "cell_type": "code",
   "execution_count": 2,
   "metadata": {},
   "outputs": [
    {
     "name": "stdout",
     "output_type": "stream",
     "text": [
      "Discrete(2)\n"
     ]
    }
   ],
   "source": [
    "# This shows the action space is 2 dimensional and discrete.\n",
    "print(env.action_space)\n",
    "\n",
    "# For discrete action spaces, the action is given as an integer in the range [0, action-range - 1]\n",
    "# For the case of cartpole, this means the action is an integer in the range [0, 1]\n",
    "# 0 pushes the cart to the left and 1 pushes the cart to the right.\n"
   ]
  },
  {
   "cell_type": "code",
   "execution_count": 3,
   "metadata": {},
   "outputs": [],
   "source": [
    "# To actually move the env forward, we must tell it what action should be taken.\n",
    "action = 0\n",
    "next_obs, reward, terminated, truncated, info = env.step(action)\n",
    "\n",
    "# We see that stepping forward with env.step() returns the next observation, i.e. the result\n",
    "# of taking the given action in the environment. It also returns the reward in the environment,\n",
    "# and the terminated flag which tells us if the episode has ended.\n",
    "# Common reasons for the episode to end are succeeding or failing a"
   ]
  },
  {
   "cell_type": "code",
   "execution_count": 4,
   "metadata": {},
   "outputs": [],
   "source": [
    "def sin_policy(obs):\n",
    "    # Generally a policy will take some function of the observation and return an action.\n",
    "    # For example:\n",
    "    sin_obs = np.sin(obs[1])\n",
    "    policy_action = None\n",
    "    if sin_obs > 0:\n",
    "        policy_action = 0\n",
    "    else:\n",
    "        policy_action = 1\n",
    "    return policy_action"
   ]
  },
  {
   "cell_type": "code",
   "execution_count": 5,
   "metadata": {},
   "outputs": [
    {
     "name": "stdout",
     "output_type": "stream",
     "text": [
      "[-0.03653543 -0.00116871  0.02932162 -0.00582582]\n",
      "[-0.03655881  0.19352072  0.0292051  -0.28911513]\n",
      "Made it to step: 0\n",
      "[-0.03268839 -0.00200525  0.0234228   0.01263385]\n",
      "Made it to step: 1\n",
      "[-0.0327285   0.19277309  0.02367548 -0.27256784]\n",
      "Made it to step: 2\n",
      "[-0.02887304 -0.00267855  0.01822412  0.02748738]\n",
      "Made it to step: 3\n",
      "[-0.02892661  0.19217739  0.01877387 -0.25939038]\n",
      "Made it to step: 4\n",
      "[-0.02508306 -0.00320748  0.01358606  0.03915446]\n",
      "Made it to step: 5\n",
      "[-0.02514721  0.19171704  0.01436915 -0.24921116]\n",
      "Made it to step: 6\n",
      "[-0.02131287 -0.00360714  0.00938492  0.04796924]\n",
      "Made it to step: 7\n",
      "[-0.02138501  0.191379    0.01034431 -0.24173795]\n",
      "Made it to step: 8\n",
      "[-0.01755743 -0.00388918  0.00550955  0.05418982]\n",
      "Made it to step: 9\n",
      "[-0.01763522  0.19115333  0.00659335 -0.23674972]\n",
      "Made it to step: 10\n",
      "[-0.01381215 -0.00406219  0.00185835  0.05800563]\n",
      "Made it to step: 11\n",
      "[-0.01389339  0.19103307  0.00301847 -0.23409039]\n",
      "Made it to step: 12\n",
      "[-0.01007273 -0.00413188 -0.00166334  0.05954313]\n",
      "Made it to step: 13\n",
      "[-0.01015537  0.19101389 -0.00047248 -0.23366414]\n",
      "Made it to step: 14\n",
      "[-0.00633509 -0.00410132 -0.00514576  0.05886972]\n",
      "Made it to step: 15\n",
      "[-0.00641712  0.19109404 -0.00396837 -0.23543228]\n",
      "Made it to step: 16\n",
      "[-0.00259524 -0.00397099 -0.00867701  0.05599627]\n",
      "Made it to step: 17\n",
      "[-0.00267466  0.19127429 -0.00755709 -0.23941165]\n",
      "Made it to step: 18\n",
      "[ 0.00115083 -0.00373889 -0.01234532  0.05087801]\n",
      "Made it to step: 19\n",
      "[ 0.00107605  0.19155788 -0.01132776 -0.24567425]\n",
      "Made it to step: 20\n",
      "[ 0.00490721 -0.00340046 -0.01624125  0.04341421]\n",
      "Made it to step: 21\n",
      "[ 0.0048392   0.19195057 -0.01537296 -0.25434843]\n",
      "Made it to step: 22\n",
      "[ 0.00867821 -0.00294855 -0.02045993  0.03344624]\n",
      "Made it to step: 23\n",
      "[ 0.00861924  0.19246075 -0.01979101 -0.26562116]\n",
      "Made it to step: 24\n",
      "[ 0.01246845 -0.00237323 -0.02510343  0.02075441]\n",
      "Made it to step: 25\n",
      "[ 0.01242099  0.19309957 -0.02468834 -0.27974203]\n",
      "Made it to step: 26\n",
      "[ 0.01628298 -0.00166166 -0.03028318  0.00505314]\n",
      "Made it to step: 27\n",
      "[ 0.01624975  0.19388121 -0.03018212 -0.29702857]\n",
      "Made it to step: 28\n",
      "[ 0.02012737 -0.00079777 -0.03612269 -0.0140153 ]\n",
      "Made it to step: 29\n",
      "[ 0.02011142  0.1948231  -0.036403   -0.31787294]\n",
      "Made it to step: 30\n",
      "[ 0.02400788  0.00023804 -0.04276045 -0.03688884]\n",
      "Made it to step: 31\n",
      "[ 0.02401264 -0.19424547 -0.04349823  0.24200201]\n",
      "Made it to step: 32\n",
      "[ 0.02012773  0.00146996 -0.03865819 -0.06407789]\n",
      "Made it to step: 33\n",
      "[ 0.02015713 -0.19307701 -0.03993975  0.21616188]\n",
      "Made it to step: 34\n",
      "[ 0.01629559  0.00259247 -0.03561651 -0.08884746]\n",
      "Made it to step: 35\n",
      "[ 0.01634744 -0.19200134 -0.03739346  0.1923891 ]\n",
      "Made it to step: 36\n",
      "[ 0.01250741  0.00363503 -0.03354568 -0.11185144]\n",
      "Made it to step: 37\n",
      "[ 0.01258011 -0.19099057 -0.03578271  0.17006215]\n",
      "Made it to step: 38\n",
      "[ 0.0087603   0.00462479 -0.03238146 -0.13369094]\n",
      "Made it to step: 39\n",
      "[ 0.0088528  -0.19001873 -0.03505528  0.1486028 ]\n",
      "Made it to step: 40\n",
      "[ 0.00505242  0.00558722 -0.03208323 -0.15493001]\n",
      "Made it to step: 41\n",
      "[ 0.00516417 -0.18906102 -0.03518183  0.12746125]\n",
      "Made it to step: 42\n",
      "[ 0.00138295  0.00654681 -0.0326326  -0.17611025]\n",
      "Made it to step: 43\n",
      "[ 0.00151388 -0.1880933  -0.03615481  0.1061022 ]\n",
      "Made it to step: 44\n",
      "[-0.00224798  0.00752761 -0.03403276 -0.1977646 ]\n",
      "Made it to step: 45\n",
      "[-0.00209743 -0.18709145 -0.03798806  0.08399124]\n",
      "Made it to step: 46\n",
      "[-0.00583926  0.00855387 -0.03630823 -0.22043082]\n",
      "Made it to step: 47\n",
      "[-0.00566818 -0.18603079 -0.04071685  0.06058152]\n",
      "Made it to step: 48\n",
      "[-0.0093888   0.00965059 -0.03950522 -0.24466471]\n",
      "Made it to step: 49\n",
      "[-0.00919579 -0.18488549 -0.04439851  0.03530022]\n",
      "Made it to step: 50\n",
      "[-0.0128935   0.0108441  -0.04369251 -0.2710537 ]\n",
      "Made it to step: 51\n",
      "[-0.01267662 -0.18362802 -0.04911358  0.00753456]\n",
      "Made it to step: 52\n",
      "[-0.01634918  0.01216263 -0.04896289 -0.30023086]\n",
      "Made it to step: 53\n",
      "[-0.01610592 -0.18222848 -0.05496751 -0.023383  ]\n",
      "Made it to step: 54\n",
      "[-0.01975049  0.01363692 -0.05543517 -0.33288968]\n",
      "Made it to step: 55\n",
      "[-0.01947775 -0.18065399 -0.06209296 -0.05819059]\n",
      "Made it to step: 56\n",
      "[-0.02309083  0.01530076 -0.06325677 -0.36979985]\n",
      "Made it to step: 57\n",
      "[-0.02278482 -0.17886807 -0.07065277 -0.09771422]\n",
      "Made it to step: 58\n",
      "[-0.02636218  0.01719162 -0.07260706 -0.4118247 ]\n",
      "Made it to step: 59\n",
      "[-0.02601835 -0.17682998 -0.08084355 -0.1428868 ]\n",
      "Made it to step: 60\n",
      "[-0.02955495  0.01935112 -0.08370128 -0.45993945]\n",
      "Made it to step: 61\n",
      "[-0.02916793 -0.17449415 -0.09290008 -0.19476897]\n",
      "Made it to step: 62\n",
      "[-0.03265781  0.02182542 -0.09679545 -0.5152518 ]\n",
      "Made it to step: 63\n",
      "[-0.0322213  -0.1718097  -0.10710049 -0.25457224]\n",
      "Made it to step: 64\n",
      "[-0.0356575   0.02466548 -0.11219193 -0.5790237 ]\n",
      "Made it to step: 65\n",
      "[-0.03516418 -0.1687202  -0.12377241 -0.3236842 ]\n",
      "Made it to step: 66\n",
      "[-0.03853859  0.02792683 -0.13024609 -0.65269446]\n",
      "Made it to step: 67\n",
      "[-0.03798005 -0.1651639  -0.14329998 -0.40369576]\n",
      "Made it to step: 68\n",
      "[-0.04128333  0.03166872 -0.1513739  -0.73790455]\n",
      "Made it to step: 69\n",
      "[-0.04064995 -0.16107473 -0.16613199 -0.49642965]\n",
      "Made it to step: 70\n",
      "[-0.04387145  0.03595219 -0.17606059 -0.8365194 ]\n",
      "Made it to step: 71\n",
      "[-0.04315241 -0.15638448 -0.19279097 -0.6039691 ]\n",
      "Made it to step: 72\n",
      "[-0.0462801   0.04083643 -0.20487036 -0.9506498 ]\n",
      "Made it to step: 73\n",
      "[-0.04546337 -0.15102723 -0.22388335 -0.72868425]\n",
      "Made it to step: 74\n"
     ]
    }
   ],
   "source": [
    "# Usually, we use the policy to write a for loop over the environment, moving it forward according to the policy.\n",
    "obs, info = env.reset()\n",
    "print(obs)\n",
    "horizon = 500\n",
    "terminated = False\n",
    "for i in range(horizon):\n",
    "    if terminated is False:\n",
    "        action = sin_policy(obs)\n",
    "        # action = random_policy(obs)\n",
    "        next_obs, reward, terminated, truncated, info = env.step(action)\n",
    "        print(next_obs)\n",
    "        print(F\"Made it to step: {i}\")\n",
    "        obs = next_obs"
   ]
  },
  {
   "cell_type": "code",
   "execution_count": 6,
   "metadata": {},
   "outputs": [],
   "source": [
    "# The full code for cartpole is here:\n",
    "# https://github.com/openai/gym/blob/master/gym/envs/classic_contro"
   ]
  },
  {
   "cell_type": "markdown",
   "metadata": {},
   "source": [
    "# Please answer the following questions.\n",
    "\n",
    "\n",
    "# 1. Implement the function random_policy\n",
    "\n",
    "This policy takes the observation, ignores it, and returns a random action. It should sample the actions uniformly, with equal probability of any action.\n",
    "\n"
   ]
  },
  {
   "cell_type": "code",
   "execution_count": 7,
   "metadata": {},
   "outputs": [],
   "source": [
    "import random\n",
    "from random import randint"
   ]
  },
  {
   "cell_type": "code",
   "execution_count": 8,
   "metadata": {},
   "outputs": [],
   "source": [
    "def random_policy(obs):\n",
    "    # Takes an observation and returns a random action.\n",
    "    policy_action = randint(0,1)\n",
    "    return policy_action"
   ]
  },
  {
   "cell_type": "markdown",
   "metadata": {},
   "source": [
    "# 2. Compare the performance of sin_policy and random policy.\n",
    "\n",
    "Do this by running both policies 100 times until termination. Then report the mean and variance of the number of steps achieved by each policy."
   ]
  },
  {
   "cell_type": "code",
   "execution_count": 9,
   "metadata": {},
   "outputs": [],
   "source": [
    "import statistics as stat"
   ]
  },
  {
   "cell_type": "code",
   "execution_count": 10,
   "metadata": {},
   "outputs": [
    {
     "data": {
      "text/plain": [
       "[38.84, 232.13575757575757]"
      ]
     },
     "execution_count": 10,
     "metadata": {},
     "output_type": "execute_result"
    }
   ],
   "source": [
    "# Sin_policy:\n",
    "\n",
    "num_steps = []\n",
    "for j in range(100):\n",
    "    obs, info = env.reset()\n",
    "    horizon = 500\n",
    "    terminated = False\n",
    "    for i in range(horizon):\n",
    "        if terminated is False:\n",
    "            action = sin_policy(obs)\n",
    "            next_obs, reward, terminated, truncated, info = env.step(action)\n",
    "            obs = next_obs\n",
    "        else:\n",
    "            num_steps.append(i)\n",
    "            break\n",
    "            \n",
    "[stat.mean(num_steps), stat.variance(num_steps)]"
   ]
  },
  {
   "cell_type": "code",
   "execution_count": 11,
   "metadata": {},
   "outputs": [
    {
     "data": {
      "text/plain": [
       "[22.76, 119.1741414141414]"
      ]
     },
     "execution_count": 11,
     "metadata": {},
     "output_type": "execute_result"
    }
   ],
   "source": [
    "# Random policy:\n",
    "\n",
    "num_steps = []\n",
    "for j in range(100):\n",
    "    obs, info = env.reset()\n",
    "    horizon = 500\n",
    "    terminated = False\n",
    "    for i in range(horizon):\n",
    "        if terminated is False:\n",
    "            action = random_policy(obs)\n",
    "            next_obs, reward, terminated, truncated, info = env.step(action)\n",
    "            obs = next_obs\n",
    "        else:\n",
    "            num_steps.append(i+1)\n",
    "            break\n",
    "            \n",
    "            \n",
    "[stat.mean(num_steps), stat.variance(num_steps)]"
   ]
  },
  {
   "cell_type": "markdown",
   "metadata": {},
   "source": [
    "# 3. Try to devise a hand-coded policy that beats sin_policy.\n",
    "\n",
    "This policy should NOT use any machine learning. It should be a determinstic function of the input. Report the mean and variance of your policy across 100 samples."
   ]
  },
  {
   "cell_type": "code",
   "execution_count": 12,
   "metadata": {},
   "outputs": [],
   "source": [
    "def my_policy(obs):\n",
    "    x, v, theta, v_theta = obs\n",
    "    sin_obs = np.sin(theta + .1*v_theta)\n",
    "    policy_action = None\n",
    "    if sin_obs > 0:\n",
    "        policy_action = 1\n",
    "    else:\n",
    "        policy_action = 0\n",
    "    return policy_action"
   ]
  },
  {
   "cell_type": "code",
   "execution_count": 13,
   "metadata": {},
   "outputs": [
    {
     "data": {
      "text/plain": [
       "[500, 0]"
      ]
     },
     "execution_count": 13,
     "metadata": {},
     "output_type": "execute_result"
    }
   ],
   "source": [
    "num_steps = []\n",
    "horizon = 500\n",
    "for j in range(100):\n",
    "    obs, info = env.reset()\n",
    "    terminated = False\n",
    "    for i in range(horizon):\n",
    "        if terminated is False:\n",
    "            action = my_policy(obs)\n",
    "            next_obs, reward, terminated, truncated, info = env.step(action)\n",
    "            obs = next_obs\n",
    "        else:\n",
    "            num_steps.append(i+1)\n",
    "            break\n",
    "        if i+1 == horizon:\n",
    "            num_steps.append(i+1)\n",
    "            \n",
    "            \n",
    "[stat.mean(num_steps), stat.variance(num_steps)]"
   ]
  }
 ],
 "metadata": {
  "kernelspec": {
   "display_name": "Python 3 (ipykernel)",
   "language": "python",
   "name": "python3"
  },
  "language_info": {
   "codemirror_mode": {
    "name": "ipython",
    "version": 3
   },
   "file_extension": ".py",
   "mimetype": "text/x-python",
   "name": "python",
   "nbconvert_exporter": "python",
   "pygments_lexer": "ipython3",
   "version": "3.9.12"
  }
 },
 "nbformat": 4,
 "nbformat_minor": 1
}
